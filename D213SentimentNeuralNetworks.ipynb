{
 "cells": [
  {
   "cell_type": "markdown",
   "id": "55220daf-128f-4b73-80f2-4456351dbaeb",
   "metadata": {},
   "source": [
    "# D213 Sentiment Analysis Neural Networks\n",
    "______________________________________________"
   ]
  },
  {
   "cell_type": "markdown",
   "id": "93d223b6-d7a1-4120-a3f2-d0d510c5af04",
   "metadata": {},
   "source": [
    "## Nicole Reiswig"
   ]
  },
  {
   "cell_type": "markdown",
   "id": "436a73ca-fd66-4b39-8634-9334b1d8f17f",
   "metadata": {},
   "source": [
    "College of Information Technology, Western Governors University"
   ]
  },
  {
   "cell_type": "markdown",
   "id": "82bd509d-362d-45b0-8312-6f735aaa23ec",
   "metadata": {},
   "source": [
    "Master of Science in Data Analytics"
   ]
  },
  {
   "cell_type": "markdown",
   "id": "f35a7ef3-be77-4751-bced-af9b8b5b7b77",
   "metadata": {},
   "source": [
    "Dr. Festus Elleh"
   ]
  },
  {
   "cell_type": "markdown",
   "id": "32ab4302-87a5-443a-b633-2d9f019a48ea",
   "metadata": {},
   "source": [
    "March 20, 2024"
   ]
  },
  {
   "cell_type": "markdown",
   "id": "85602bab-bc6e-4f35-a67b-7a65b8457d76",
   "metadata": {},
   "source": [
    "### Part I: Research Question\n",
    "_______________________________"
   ]
  },
  {
   "cell_type": "markdown",
   "id": "8fd811a0-ea4b-4330-9fc6-f7c0f7cfecae",
   "metadata": {},
   "source": [
    "1. The research question we will be answering with this analysis is, \"Can we determine a customer's sentiment utilizing sentiment analysis on this data set?\"\n",
    "2. The goal of this analysis is to utilize sentiment analysis to identify customer preferences to ensure we meet the customer's needs in a competitive business environment. \n",
    "3. The type of neural network that will be used is sequential text classification. This recurrent neural network is capable of performing text classification and can be trained to produce useful predictions and text sequences for the select dataset. "
   ]
  },
  {
   "cell_type": "markdown",
   "id": "bf7e4669-bb02-43ec-a588-2035ed2c37b4",
   "metadata": {},
   "source": [
    "### Part II: Data Preparation\n",
    "__________________________________"
   ]
  },
  {
   "cell_type": "markdown",
   "id": "1ab5819d-558b-415e-890c-bc0925300909",
   "metadata": {},
   "source": [
    "##### Importing packages a libraries needed throughout the analysis"
   ]
  },
  {
   "cell_type": "code",
   "execution_count": 1,
   "id": "5af7c74e-3faa-415f-95ff-803829595195",
   "metadata": {},
   "outputs": [
    {
     "name": "stdout",
     "output_type": "stream",
     "text": [
      "WARNING:tensorflow:From C:\\Users\\ntrei\\anaconda3\\Lib\\site-packages\\keras\\src\\losses.py:2976: The name tf.losses.sparse_softmax_cross_entropy is deprecated. Please use tf.compat.v1.losses.sparse_softmax_cross_entropy instead.\n",
      "\n"
     ]
    }
   ],
   "source": [
    "import numpy as np\n",
    "import pandas as pd\n",
    "import string\n",
    "import re\n",
    "from pandas import Series, DataFrame\n",
    "import nltk\n",
    "import matplotlib.pyplot as plt\n",
    "%matplotlib inline \n",
    "import seaborn as sns\n",
    "import warnings\n",
    "warnings.filterwarnings('ignore')\n",
    "from sklearn.model_selection import train_test_split\n",
    "import os\n",
    "import datetime\n",
    "import statistics\n",
    "import tensorflow as tf\n",
    "import keras\n",
    "import tensorflow.keras \n",
    "from keras.layers import Embedding\n",
    "from tensorflow.keras.models import Sequential\n",
    "from tensorflow.keras.preprocessing.text import Tokenizer\n",
    "from tensorflow.keras.preprocessing.sequence import pad_sequences\n",
    "from tensorflow.keras.models import Sequential\n",
    "from tensorflow.keras.layers import LSTM,Dense, Dropout, SpatialDropout1D\n",
    "from tensorflow.keras.layers import Embedding\n",
    "import nltk\n",
    "from nltk.corpus import stopwords\n",
    "from nltk.tokenize import word_tokenize\n",
    "from textblob import TextBlob\n",
    "from wordcloud import WordCloud, STOPWORDS, ImageColorGenerator\n",
    "from sklearn.feature_extraction.text import CountVectorizer\n",
    "from PIL import Image\n",
    "import plotly.express as px\n",
    "from nltk.stem import PorterStemmer, WordNetLemmatizer\n",
    "from nltk.sentiment import SentimentIntensityAnalyzer\n",
    "from keras.callbacks import ModelCheckpoint, EarlyStopping"
   ]
  },
  {
   "cell_type": "markdown",
   "id": "af8c10df-5c1a-4818-92e6-e30199193b8f",
   "metadata": {},
   "source": [
    "##### Setting the working directory"
   ]
  },
  {
   "cell_type": "code",
   "execution_count": 2,
   "id": "b3c30e5e-40a2-4f27-a428-7beded555955",
   "metadata": {},
   "outputs": [
    {
     "data": {
      "text/plain": [
       "'C:\\\\Users\\\\ntrei'"
      ]
     },
     "execution_count": 2,
     "metadata": {},
     "output_type": "execute_result"
    }
   ],
   "source": [
    "#set working directory\n",
    "os.getcwd()"
   ]
  },
  {
   "cell_type": "markdown",
   "id": "22a06456-1acb-4ca3-828a-f117193828ee",
   "metadata": {},
   "source": [
    "##### Importing the three files and concatenating them to prepare for the analysis."
   ]
  },
  {
   "cell_type": "code",
   "execution_count": 3,
   "id": "0af52ebb-d80f-48a0-85ce-03f07e27738e",
   "metadata": {},
   "outputs": [
    {
     "name": "stdout",
     "output_type": "stream",
     "text": [
      "                                                text  label\n",
      "0  So there is no way for me to plug it in here i...      0\n",
      "1                        Good case, Excellent value.      1\n",
      "2                             Great for the jawbone.      1\n",
      "3  Tied to charger for conversations lasting more...      0\n",
      "4                                  The mic is great.      1\n"
     ]
    }
   ],
   "source": [
    "# Read the files\n",
    "amazon = pd.read_csv(\"amazon_cells_labelled.txt\", sep=\"\\t\", header=None, names=[\"text\", \"label\"])\n",
    "imdb = pd.read_csv(\"imdb_labelled.txt\", sep=\"\\t\", header=None, names=[\"text\", \"label\"])\n",
    "yelp = pd.read_csv(\"yelp_labelled.txt\", sep=\"\\t\", header=None, names=[\"text\", \"label\"])\n",
    "\n",
    "# Concatenate them\n",
    "df = pd.concat((amazon, imdb, yelp), ignore_index=True)\n",
    "\n",
    "# Print the first few rows of the concatenated dataframe\n",
    "print(df.head())\n"
   ]
  },
  {
   "cell_type": "markdown",
   "id": "155e9318-dffd-4447-9a3b-74c1f2157d4f",
   "metadata": {},
   "source": [
    "Renaming columns for ease of reading and interpretting"
   ]
  },
  {
   "cell_type": "markdown",
   "id": "e36e6e96-1cae-4f2d-b099-1d09e9d44d8b",
   "metadata": {},
   "source": [
    "##### Beginning the exploratory data analysis process by viewing the shape of the data we will be working with. This data set has 2748 rows and 2 columns."
   ]
  },
  {
   "cell_type": "code",
   "execution_count": 4,
   "id": "19d82d83-250b-48cd-8139-09a4da9ae85f",
   "metadata": {},
   "outputs": [
    {
     "data": {
      "text/plain": [
       "(2748, 2)"
      ]
     },
     "execution_count": 4,
     "metadata": {},
     "output_type": "execute_result"
    }
   ],
   "source": [
    "df.shape"
   ]
  },
  {
   "cell_type": "markdown",
   "id": "36f8415b-18ee-4349-bff3-87f9872554b6",
   "metadata": {},
   "source": [
    "##### Preprocessing the data by changing the names of the columns for readability and ease of interpretation"
   ]
  },
  {
   "cell_type": "code",
   "execution_count": 5,
   "id": "431d2157-96c2-498a-b6b6-80928a4bc082",
   "metadata": {},
   "outputs": [],
   "source": [
    "#Rename Columns\n",
    "df = df.rename(columns={'text': 'review_text', 'label': 'sentiment'})"
   ]
  },
  {
   "cell_type": "markdown",
   "id": "00da41e0-7d01-4f1d-8ed3-52a8b5b2ebdd",
   "metadata": {},
   "source": [
    "##### Viewing the first five rows of the data to ensure successful change of column names"
   ]
  },
  {
   "cell_type": "code",
   "execution_count": 6,
   "id": "d1c9da57-7517-4caa-9431-9cdc3f1be3cf",
   "metadata": {},
   "outputs": [
    {
     "name": "stdout",
     "output_type": "stream",
     "text": [
      "Shape of data: (2748, 2)\n"
     ]
    },
    {
     "data": {
      "text/html": [
       "<div>\n",
       "<style scoped>\n",
       "    .dataframe tbody tr th:only-of-type {\n",
       "        vertical-align: middle;\n",
       "    }\n",
       "\n",
       "    .dataframe tbody tr th {\n",
       "        vertical-align: top;\n",
       "    }\n",
       "\n",
       "    .dataframe thead th {\n",
       "        text-align: right;\n",
       "    }\n",
       "</style>\n",
       "<table border=\"1\" class=\"dataframe\">\n",
       "  <thead>\n",
       "    <tr style=\"text-align: right;\">\n",
       "      <th></th>\n",
       "      <th>review_text</th>\n",
       "      <th>sentiment</th>\n",
       "    </tr>\n",
       "  </thead>\n",
       "  <tbody>\n",
       "    <tr>\n",
       "      <th>0</th>\n",
       "      <td>So there is no way for me to plug it in here i...</td>\n",
       "      <td>0</td>\n",
       "    </tr>\n",
       "    <tr>\n",
       "      <th>1</th>\n",
       "      <td>Good case, Excellent value.</td>\n",
       "      <td>1</td>\n",
       "    </tr>\n",
       "    <tr>\n",
       "      <th>2</th>\n",
       "      <td>Great for the jawbone.</td>\n",
       "      <td>1</td>\n",
       "    </tr>\n",
       "    <tr>\n",
       "      <th>3</th>\n",
       "      <td>Tied to charger for conversations lasting more...</td>\n",
       "      <td>0</td>\n",
       "    </tr>\n",
       "    <tr>\n",
       "      <th>4</th>\n",
       "      <td>The mic is great.</td>\n",
       "      <td>1</td>\n",
       "    </tr>\n",
       "  </tbody>\n",
       "</table>\n",
       "</div>"
      ],
      "text/plain": [
       "                                         review_text  sentiment\n",
       "0  So there is no way for me to plug it in here i...          0\n",
       "1                        Good case, Excellent value.          1\n",
       "2                             Great for the jawbone.          1\n",
       "3  Tied to charger for conversations lasting more...          0\n",
       "4                                  The mic is great.          1"
      ]
     },
     "execution_count": 6,
     "metadata": {},
     "output_type": "execute_result"
    }
   ],
   "source": [
    "#Check dataframe for shape\n",
    "print('Shape of data:', df.shape)\n",
    "df.head()"
   ]
  },
  {
   "cell_type": "markdown",
   "id": "7f9d1fc0-13b6-42cc-ae0b-0641bdf31fc0",
   "metadata": {},
   "source": [
    "##### Checking for null and missing values in the dataset"
   ]
  },
  {
   "cell_type": "code",
   "execution_count": 7,
   "id": "4bb030f0-f598-402e-b610-5eaa7fd59be7",
   "metadata": {},
   "outputs": [
    {
     "data": {
      "text/html": [
       "<div>\n",
       "<style scoped>\n",
       "    .dataframe tbody tr th:only-of-type {\n",
       "        vertical-align: middle;\n",
       "    }\n",
       "\n",
       "    .dataframe tbody tr th {\n",
       "        vertical-align: top;\n",
       "    }\n",
       "\n",
       "    .dataframe thead th {\n",
       "        text-align: right;\n",
       "    }\n",
       "</style>\n",
       "<table border=\"1\" class=\"dataframe\">\n",
       "  <thead>\n",
       "    <tr style=\"text-align: right;\">\n",
       "      <th></th>\n",
       "      <th>review_text</th>\n",
       "      <th>sentiment</th>\n",
       "    </tr>\n",
       "  </thead>\n",
       "  <tbody>\n",
       "    <tr>\n",
       "      <th>0</th>\n",
       "      <td>False</td>\n",
       "      <td>False</td>\n",
       "    </tr>\n",
       "    <tr>\n",
       "      <th>1</th>\n",
       "      <td>False</td>\n",
       "      <td>False</td>\n",
       "    </tr>\n",
       "    <tr>\n",
       "      <th>2</th>\n",
       "      <td>False</td>\n",
       "      <td>False</td>\n",
       "    </tr>\n",
       "    <tr>\n",
       "      <th>3</th>\n",
       "      <td>False</td>\n",
       "      <td>False</td>\n",
       "    </tr>\n",
       "    <tr>\n",
       "      <th>4</th>\n",
       "      <td>False</td>\n",
       "      <td>False</td>\n",
       "    </tr>\n",
       "    <tr>\n",
       "      <th>...</th>\n",
       "      <td>...</td>\n",
       "      <td>...</td>\n",
       "    </tr>\n",
       "    <tr>\n",
       "      <th>2743</th>\n",
       "      <td>False</td>\n",
       "      <td>False</td>\n",
       "    </tr>\n",
       "    <tr>\n",
       "      <th>2744</th>\n",
       "      <td>False</td>\n",
       "      <td>False</td>\n",
       "    </tr>\n",
       "    <tr>\n",
       "      <th>2745</th>\n",
       "      <td>False</td>\n",
       "      <td>False</td>\n",
       "    </tr>\n",
       "    <tr>\n",
       "      <th>2746</th>\n",
       "      <td>False</td>\n",
       "      <td>False</td>\n",
       "    </tr>\n",
       "    <tr>\n",
       "      <th>2747</th>\n",
       "      <td>False</td>\n",
       "      <td>False</td>\n",
       "    </tr>\n",
       "  </tbody>\n",
       "</table>\n",
       "<p>2748 rows × 2 columns</p>\n",
       "</div>"
      ],
      "text/plain": [
       "      review_text  sentiment\n",
       "0           False      False\n",
       "1           False      False\n",
       "2           False      False\n",
       "3           False      False\n",
       "4           False      False\n",
       "...           ...        ...\n",
       "2743        False      False\n",
       "2744        False      False\n",
       "2745        False      False\n",
       "2746        False      False\n",
       "2747        False      False\n",
       "\n",
       "[2748 rows x 2 columns]"
      ]
     },
     "execution_count": 7,
     "metadata": {},
     "output_type": "execute_result"
    }
   ],
   "source": [
    "#Checking for nulls\n",
    "df.isnull()"
   ]
  },
  {
   "cell_type": "markdown",
   "id": "b94a9d54-a230-4f17-852f-885bad63f933",
   "metadata": {},
   "source": [
    "##### There are no null or missing values in the data set "
   ]
  },
  {
   "cell_type": "code",
   "execution_count": 8,
   "id": "99b9105b-7ddb-41bc-9f15-dfc6705e8805",
   "metadata": {},
   "outputs": [
    {
     "data": {
      "text/plain": [
       "review_text    False\n",
       "sentiment      False\n",
       "dtype: bool"
      ]
     },
     "execution_count": 8,
     "metadata": {},
     "output_type": "execute_result"
    }
   ],
   "source": [
    "#View nas\n",
    "df.isna().any()"
   ]
  },
  {
   "cell_type": "code",
   "execution_count": 9,
   "id": "80b6e834-eee3-4aa8-a7b4-1caa747dd123",
   "metadata": {},
   "outputs": [],
   "source": [
    "#Drop NAs\n",
    "df=df.dropna()"
   ]
  },
  {
   "cell_type": "markdown",
   "id": "5ab909e5-0efd-4524-8f10-701fb377e4f7",
   "metadata": {},
   "source": [
    "Viewing the data types"
   ]
  },
  {
   "cell_type": "markdown",
   "id": "a3c0ca37-1dff-48b6-b0e1-6e7c57ed09d8",
   "metadata": {},
   "source": [
    "##### Exploring the data further we have object and int64 data types, no null values"
   ]
  },
  {
   "cell_type": "code",
   "execution_count": 10,
   "id": "55b8a748-aa47-4c04-9932-17c77c6e4961",
   "metadata": {},
   "outputs": [
    {
     "name": "stdout",
     "output_type": "stream",
     "text": [
      "<class 'pandas.core.frame.DataFrame'>\n",
      "RangeIndex: 2748 entries, 0 to 2747\n",
      "Data columns (total 2 columns):\n",
      " #   Column       Non-Null Count  Dtype \n",
      "---  ------       --------------  ----- \n",
      " 0   review_text  2748 non-null   object\n",
      " 1   sentiment    2748 non-null   int64 \n",
      "dtypes: int64(1), object(1)\n",
      "memory usage: 43.1+ KB\n"
     ]
    }
   ],
   "source": [
    "#Viewing data\n",
    "df.info()"
   ]
  },
  {
   "cell_type": "markdown",
   "id": "93cedb8e-6433-43c3-8398-f661a43f0b50",
   "metadata": {},
   "source": [
    "##### Exploring the data further by viewing the mean, standard deviation, etc. "
   ]
  },
  {
   "cell_type": "code",
   "execution_count": 11,
   "id": "bbb449df-f340-4e37-9174-e204a9292903",
   "metadata": {},
   "outputs": [
    {
     "data": {
      "text/html": [
       "<div>\n",
       "<style scoped>\n",
       "    .dataframe tbody tr th:only-of-type {\n",
       "        vertical-align: middle;\n",
       "    }\n",
       "\n",
       "    .dataframe tbody tr th {\n",
       "        vertical-align: top;\n",
       "    }\n",
       "\n",
       "    .dataframe thead th {\n",
       "        text-align: right;\n",
       "    }\n",
       "</style>\n",
       "<table border=\"1\" class=\"dataframe\">\n",
       "  <thead>\n",
       "    <tr style=\"text-align: right;\">\n",
       "      <th></th>\n",
       "      <th>sentiment</th>\n",
       "    </tr>\n",
       "  </thead>\n",
       "  <tbody>\n",
       "    <tr>\n",
       "      <th>count</th>\n",
       "      <td>2748.000000</td>\n",
       "    </tr>\n",
       "    <tr>\n",
       "      <th>mean</th>\n",
       "      <td>0.504367</td>\n",
       "    </tr>\n",
       "    <tr>\n",
       "      <th>std</th>\n",
       "      <td>0.500072</td>\n",
       "    </tr>\n",
       "    <tr>\n",
       "      <th>min</th>\n",
       "      <td>0.000000</td>\n",
       "    </tr>\n",
       "    <tr>\n",
       "      <th>25%</th>\n",
       "      <td>0.000000</td>\n",
       "    </tr>\n",
       "    <tr>\n",
       "      <th>50%</th>\n",
       "      <td>1.000000</td>\n",
       "    </tr>\n",
       "    <tr>\n",
       "      <th>75%</th>\n",
       "      <td>1.000000</td>\n",
       "    </tr>\n",
       "    <tr>\n",
       "      <th>max</th>\n",
       "      <td>1.000000</td>\n",
       "    </tr>\n",
       "  </tbody>\n",
       "</table>\n",
       "</div>"
      ],
      "text/plain": [
       "         sentiment\n",
       "count  2748.000000\n",
       "mean      0.504367\n",
       "std       0.500072\n",
       "min       0.000000\n",
       "25%       0.000000\n",
       "50%       1.000000\n",
       "75%       1.000000\n",
       "max       1.000000"
      ]
     },
     "execution_count": 11,
     "metadata": {},
     "output_type": "execute_result"
    }
   ],
   "source": [
    "#Describing data\n",
    "df.describe()"
   ]
  },
  {
   "cell_type": "markdown",
   "id": "9adc6a69-8282-4701-8c61-b22f96fbb204",
   "metadata": {},
   "source": [
    "##### Changing capital letters to lowercase "
   ]
  },
  {
   "cell_type": "code",
   "execution_count": 12,
   "id": "583e1a8f-7b33-449b-babb-92c4c1f3d5ce",
   "metadata": {},
   "outputs": [],
   "source": [
    "#Making lowercase\n",
    "df['review_text'] = df['review_text'].str.lower()"
   ]
  },
  {
   "cell_type": "markdown",
   "id": "296470fd-5de0-4b35-a6a3-f63035378424",
   "metadata": {},
   "source": [
    "##### There was a presence of special characters and unnecessary punctuation so this was removed from the review text"
   ]
  },
  {
   "cell_type": "code",
   "execution_count": 13,
   "id": "c39f2edd-d191-4ac0-9388-5e3d49e26a47",
   "metadata": {},
   "outputs": [],
   "source": [
    "#Remove punctuation\n",
    "df.review_text = df.review_text.str.replace(r'[^\\w\\s]+', '')\n",
    "df.review_text = df.review_text.str.replace(r'\\(.*\\)', '', regex = True)\n",
    "df.review_text = df.review_text.str.strip()"
   ]
  },
  {
   "cell_type": "code",
   "execution_count": 14,
   "id": "7dd40fed-6ac4-47b9-9a24-c431a50cca83",
   "metadata": {},
   "outputs": [],
   "source": [
    "spec_chars = [\"!\",'\"',\"#\",\"%\",\"&\",\"'\",\"(\",\")\",\n",
    " \"*\",\"+\",\",\",\"-\",\".\",\"/\",\":\",\";\",\"<\",\n",
    " \"=\",\">\",\"?\",\"@\",\"[\",\"\\\\\",\"]\",\"^\",\"_\",\n",
    " \"`\",\"{\",\"|\",\"}\",\"~\",\"–\"]"
   ]
  },
  {
   "cell_type": "code",
   "execution_count": 15,
   "id": "93e7c3fd-cdc8-4e4e-afe6-0524864f8f33",
   "metadata": {},
   "outputs": [],
   "source": [
    "# Defining special characters\n",
    "spec_chars = ['!', '@', '#', '$', '%', '^', '&', '*', '(', ')', '?', '.']\n"
   ]
  },
  {
   "cell_type": "code",
   "execution_count": 16,
   "id": "c4e0e095-fa77-46e2-8bd2-c093421f195c",
   "metadata": {},
   "outputs": [],
   "source": [
    "# Replacing special characters with spaces\n",
    "for char in spec_chars:\n",
    "    df['review_text'] = df['review_text'].str.replace(re.escape(char), '')"
   ]
  },
  {
   "cell_type": "markdown",
   "id": "e879648b-bbb0-40bf-a099-59d47ad49fb5",
   "metadata": {},
   "source": [
    "##### Viewing the length of text to ensure data shape has not been altered with changes made to the data"
   ]
  },
  {
   "cell_type": "code",
   "execution_count": 17,
   "id": "a8135638-78ba-4066-b376-3a01a61a0991",
   "metadata": {},
   "outputs": [
    {
     "data": {
      "text/plain": [
       "(2748, 2)"
      ]
     },
     "execution_count": 17,
     "metadata": {},
     "output_type": "execute_result"
    }
   ],
   "source": [
    "df.shape"
   ]
  },
  {
   "cell_type": "markdown",
   "id": "87a864f4-5f19-4a8e-8ee6-44bed2979ebb",
   "metadata": {},
   "source": [
    "##### Adding a column with the length of the review"
   ]
  },
  {
   "cell_type": "code",
   "execution_count": 18,
   "id": "f26bd10c-6fb3-4753-b664-12cbdeb00c71",
   "metadata": {},
   "outputs": [],
   "source": [
    "#Length of text\n",
    "df['review_length'] = df.review_text.str.len()"
   ]
  },
  {
   "cell_type": "code",
   "execution_count": 19,
   "id": "720068ea-5ffb-4b8b-aae9-1312148c2ba2",
   "metadata": {},
   "outputs": [
    {
     "data": {
      "text/html": [
       "<div>\n",
       "<style scoped>\n",
       "    .dataframe tbody tr th:only-of-type {\n",
       "        vertical-align: middle;\n",
       "    }\n",
       "\n",
       "    .dataframe tbody tr th {\n",
       "        vertical-align: top;\n",
       "    }\n",
       "\n",
       "    .dataframe thead th {\n",
       "        text-align: right;\n",
       "    }\n",
       "</style>\n",
       "<table border=\"1\" class=\"dataframe\">\n",
       "  <thead>\n",
       "    <tr style=\"text-align: right;\">\n",
       "      <th></th>\n",
       "      <th>review_text</th>\n",
       "      <th>sentiment</th>\n",
       "      <th>review_length</th>\n",
       "    </tr>\n",
       "  </thead>\n",
       "  <tbody>\n",
       "    <tr>\n",
       "      <th>0</th>\n",
       "      <td>so there is no way for me to plug it in here i...</td>\n",
       "      <td>0</td>\n",
       "      <td>82</td>\n",
       "    </tr>\n",
       "    <tr>\n",
       "      <th>1</th>\n",
       "      <td>good case, excellent value.</td>\n",
       "      <td>1</td>\n",
       "      <td>27</td>\n",
       "    </tr>\n",
       "    <tr>\n",
       "      <th>2</th>\n",
       "      <td>great for the jawbone.</td>\n",
       "      <td>1</td>\n",
       "      <td>22</td>\n",
       "    </tr>\n",
       "    <tr>\n",
       "      <th>3</th>\n",
       "      <td>tied to charger for conversations lasting more...</td>\n",
       "      <td>0</td>\n",
       "      <td>77</td>\n",
       "    </tr>\n",
       "    <tr>\n",
       "      <th>4</th>\n",
       "      <td>the mic is great.</td>\n",
       "      <td>1</td>\n",
       "      <td>17</td>\n",
       "    </tr>\n",
       "  </tbody>\n",
       "</table>\n",
       "</div>"
      ],
      "text/plain": [
       "                                         review_text  sentiment  review_length\n",
       "0  so there is no way for me to plug it in here i...          0             82\n",
       "1                        good case, excellent value.          1             27\n",
       "2                             great for the jawbone.          1             22\n",
       "3  tied to charger for conversations lasting more...          0             77\n",
       "4                                  the mic is great.          1             17"
      ]
     },
     "execution_count": 19,
     "metadata": {},
     "output_type": "execute_result"
    }
   ],
   "source": [
    "#Preview data\n",
    "df.head()"
   ]
  },
  {
   "cell_type": "markdown",
   "id": "4fafc105-3fb8-43e7-9d72-390b966cc183",
   "metadata": {},
   "source": [
    "##### Viewing the distribution of positive and negative reviews"
   ]
  },
  {
   "cell_type": "code",
   "execution_count": 20,
   "id": "54dee6ef-c483-4832-b0c3-8b724fc78d6f",
   "metadata": {},
   "outputs": [
    {
     "data": {
      "text/plain": [
       "<Axes: xlabel='sentiment', ylabel='count'>"
      ]
     },
     "execution_count": 20,
     "metadata": {},
     "output_type": "execute_result"
    },
    {
     "data": {
      "image/png": "[encoded data removed]",
      "text/plain": [
       "<Figure size 640x480 with 1 Axes>"
      ]
     },
     "metadata": {},
     "output_type": "display_data"
    }
   ],
   "source": [
    "#Observe distribution\n",
    "sns.countplot(x='sentiment', data=df)"
   ]
  },
  {
   "cell_type": "markdown",
   "id": "71d1a7de-9654-458f-a9f4-904f2915b5bc",
   "metadata": {},
   "source": [
    "##### There are two categories of sentiment 1 and 0 for positive and negative. "
   ]
  },
  {
   "cell_type": "markdown",
   "id": "c2db57f8-9355-4aa2-a379-09cec8495065",
   "metadata": {},
   "source": [
    "##### The number of positive reviews is 1386 and number of negative reviews is 1362 within the data set"
   ]
  },
  {
   "cell_type": "code",
   "execution_count": 21,
   "id": "16e85182-c3c9-4de1-9396-92c7c1438483",
   "metadata": {},
   "outputs": [
    {
     "data": {
      "text/plain": [
       "sentiment\n",
       "1    1386\n",
       "0    1362\n",
       "Name: count, dtype: int64"
      ]
     },
     "execution_count": 21,
     "metadata": {},
     "output_type": "execute_result"
    }
   ],
   "source": [
    "#Count of positive and negative reviews\n",
    "df.sentiment.value_counts()"
   ]
  },
  {
   "cell_type": "markdown",
   "id": "b3a99e09-c76f-4eb3-a385-6cdec9c1a756",
   "metadata": {},
   "source": [
    "##### The percent of positive reviews is 50% and the percent of negative reviews is 49% within the data set"
   ]
  },
  {
   "cell_type": "code",
   "execution_count": 22,
   "id": "1b005047-0495-4225-901b-e34fc24cce82",
   "metadata": {},
   "outputs": [
    {
     "data": {
      "text/plain": [
       "sentiment\n",
       "1    0.504367\n",
       "0    0.495633\n",
       "Name: count, dtype: float64"
      ]
     },
     "execution_count": 22,
     "metadata": {},
     "output_type": "execute_result"
    }
   ],
   "source": [
    "#Percent of positive and negative reviews\n",
    "df.sentiment.value_counts() / len(df)"
   ]
  },
  {
   "cell_type": "markdown",
   "id": "2e4b4c27-bf97-4dd0-8d60-903ee3bf18f4",
   "metadata": {},
   "source": [
    "##### Viewing the max length of review at 7826 and min length of review at 0 "
   ]
  },
  {
   "cell_type": "code",
   "execution_count": 23,
   "id": "fbb72135-c723-4d87-a1e8-5114f736bf81",
   "metadata": {},
   "outputs": [],
   "source": [
    "#Length of longest review \n",
    "length_reviews = df.review_text.str.len()"
   ]
  },
  {
   "cell_type": "code",
   "execution_count": 24,
   "id": "cade966c-06ca-4865-bac9-55706f358f89",
   "metadata": {},
   "outputs": [
    {
     "data": {
      "text/plain": [
       "pandas.core.series.Series"
      ]
     },
     "execution_count": 24,
     "metadata": {},
     "output_type": "execute_result"
    }
   ],
   "source": [
    "type(length_reviews)"
   ]
  },
  {
   "cell_type": "markdown",
   "id": "715ea202-98fc-4bc3-a43c-aea74551938a",
   "metadata": {},
   "source": [
    "##### The mean length of review is 69.73"
   ]
  },
  {
   "cell_type": "code",
   "execution_count": 25,
   "id": "fcf2864f-5eef-41b1-b29b-40db96e5858b",
   "metadata": {},
   "outputs": [
    {
     "data": {
      "text/plain": [
       "69.72816593886463"
      ]
     },
     "execution_count": 25,
     "metadata": {},
     "output_type": "execute_result"
    }
   ],
   "source": [
    "statistics.mean(length_reviews)"
   ]
  },
  {
   "cell_type": "code",
   "execution_count": 26,
   "id": "66e171b1-0bc3-4ec2-85c1-d9ec751dafb8",
   "metadata": {},
   "outputs": [
    {
     "data": {
      "text/plain": [
       "7826"
      ]
     },
     "execution_count": 26,
     "metadata": {},
     "output_type": "execute_result"
    }
   ],
   "source": [
    "max(length_reviews)"
   ]
  },
  {
   "cell_type": "code",
   "execution_count": 27,
   "id": "815398e1-ed07-4e50-8d9e-ea0177bc8ca6",
   "metadata": {},
   "outputs": [
    {
     "data": {
      "text/plain": [
       "0"
      ]
     },
     "execution_count": 27,
     "metadata": {},
     "output_type": "execute_result"
    }
   ],
   "source": [
    "min(length_reviews)"
   ]
  },
  {
   "cell_type": "code",
   "execution_count": 28,
   "id": "8ebf7243-62fa-4cef-b743-49839e280e88",
   "metadata": {},
   "outputs": [
    {
     "data": {
      "text/plain": [
       "(2748,)"
      ]
     },
     "execution_count": 28,
     "metadata": {},
     "output_type": "execute_result"
    }
   ],
   "source": [
    "length_reviews.shape"
   ]
  },
  {
   "cell_type": "code",
   "execution_count": 29,
   "id": "6e74fae4-ade7-407c-b969-ae88e988a449",
   "metadata": {},
   "outputs": [
    {
     "data": {
      "text/html": [
       "<div>\n",
       "<style scoped>\n",
       "    .dataframe tbody tr th:only-of-type {\n",
       "        vertical-align: middle;\n",
       "    }\n",
       "\n",
       "    .dataframe tbody tr th {\n",
       "        vertical-align: top;\n",
       "    }\n",
       "\n",
       "    .dataframe thead th {\n",
       "        text-align: right;\n",
       "    }\n",
       "</style>\n",
       "<table border=\"1\" class=\"dataframe\">\n",
       "  <thead>\n",
       "    <tr style=\"text-align: right;\">\n",
       "      <th></th>\n",
       "      <th>review_text</th>\n",
       "      <th>sentiment</th>\n",
       "      <th>review_length</th>\n",
       "    </tr>\n",
       "  </thead>\n",
       "  <tbody>\n",
       "    <tr>\n",
       "      <th>0</th>\n",
       "      <td>so there is no way for me to plug it in here i...</td>\n",
       "      <td>0</td>\n",
       "      <td>82</td>\n",
       "    </tr>\n",
       "    <tr>\n",
       "      <th>1</th>\n",
       "      <td>good case, excellent value.</td>\n",
       "      <td>1</td>\n",
       "      <td>27</td>\n",
       "    </tr>\n",
       "    <tr>\n",
       "      <th>2</th>\n",
       "      <td>great for the jawbone.</td>\n",
       "      <td>1</td>\n",
       "      <td>22</td>\n",
       "    </tr>\n",
       "    <tr>\n",
       "      <th>3</th>\n",
       "      <td>tied to charger for conversations lasting more...</td>\n",
       "      <td>0</td>\n",
       "      <td>77</td>\n",
       "    </tr>\n",
       "    <tr>\n",
       "      <th>4</th>\n",
       "      <td>the mic is great.</td>\n",
       "      <td>1</td>\n",
       "      <td>17</td>\n",
       "    </tr>\n",
       "  </tbody>\n",
       "</table>\n",
       "</div>"
      ],
      "text/plain": [
       "                                         review_text  sentiment  review_length\n",
       "0  so there is no way for me to plug it in here i...          0             82\n",
       "1                        good case, excellent value.          1             27\n",
       "2                             great for the jawbone.          1             22\n",
       "3  tied to charger for conversations lasting more...          0             77\n",
       "4                                  the mic is great.          1             17"
      ]
     },
     "execution_count": 29,
     "metadata": {},
     "output_type": "execute_result"
    }
   ],
   "source": [
    "df.head()"
   ]
  },
  {
   "cell_type": "markdown",
   "id": "4fe94e8f-b086-4081-a402-bfac0fd6e852",
   "metadata": {},
   "source": [
    "##### The cleaned dataset is exported"
   ]
  },
  {
   "cell_type": "code",
   "execution_count": 30,
   "id": "2593d8c8-d14d-4472-8783-a7fea2d8decb",
   "metadata": {},
   "outputs": [],
   "source": [
    "# export file to csv\n",
    "df.to_csv('cleaned_data2132.csv', index = False)"
   ]
  },
  {
   "cell_type": "markdown",
   "id": "4c3a6ce7-a11b-497d-894c-fe74e0749712",
   "metadata": {},
   "source": [
    "##### Stemming and lemmatizing are performed which identifies the root words"
   ]
  },
  {
   "cell_type": "code",
   "execution_count": 31,
   "id": "e142f5ac-93c7-4152-bb8e-f112d4082a8b",
   "metadata": {},
   "outputs": [],
   "source": [
    "demoWords = [\"making\",\"going\",\"go\",\"do\",\"does\",\"doing\",\"yes\",\"no\",\"having\",\"had\",\"jumping\",\"coding\",\"programming\",\"code\"]"
   ]
  },
  {
   "cell_type": "code",
   "execution_count": 32,
   "id": "a92e48f3-06a5-4567-8581-f2ebd3610ee2",
   "metadata": {},
   "outputs": [
    {
     "name": "stdout",
     "output_type": "stream",
     "text": [
      "making make make\n",
      "going go go\n",
      "go go go\n",
      "do do do\n",
      "does doe do\n",
      "doing do do\n",
      "yes ye yes\n",
      "no no no\n",
      "having have have\n",
      "had had have\n",
      "jumping jump jump\n",
      "coding code cod\n",
      "programming program program\n",
      "code code code\n"
     ]
    }
   ],
   "source": [
    "# Left column is original center is stemmer right column is lemmatizer\n",
    "lemmatizer = WordNetLemmatizer()\n",
    "stemmer = PorterStemmer()\n",
    "for word in demoWords:\n",
    "    print(word, stemmer.stem(word), lemmatizer.lemmatize(word,\"v\"))"
   ]
  },
  {
   "cell_type": "markdown",
   "id": "5d7a352c-5f94-44c3-bb6c-adb6dd7af05e",
   "metadata": {},
   "source": [
    "##### Finding the vocabulary and word embedding length"
   ]
  },
  {
   "cell_type": "code",
   "execution_count": 33,
   "id": "882ff2cf-8614-49be-a25d-22ca0722122c",
   "metadata": {},
   "outputs": [
    {
     "name": "stdout",
     "output_type": "stream",
     "text": [
      "Vocab:   26\n",
      "Longest:   1376\n",
      "Emb Size:   2.2581008643532257\n"
     ]
    }
   ],
   "source": [
    "reviews = df['review_text'].tolist()\n",
    "vocab = []\n",
    "max_review_len = 70\n",
    "\n",
    "for review in reviews:\n",
    "    review_len = len(review.split(\" \"))\n",
    "    if review_len > max_review_len:\n",
    "        max_review_len = review_len\n",
    "\n",
    "for word in review.split(\" \"):\n",
    "    if not word in vocab:\n",
    "        vocab.append(word)\n",
    "\n",
    "print(\"Vocab:  \", len(vocab))\n",
    "print(\"Longest:  \", max_review_len)\n",
    "print(\"Emb Size:  \", len(vocab)**0.25)"
   ]
  },
  {
   "cell_type": "markdown",
   "id": "c4525cfc-ffbb-449f-9021-6a7f61b9a201",
   "metadata": {},
   "source": [
    "##### The longest sentence uses 1376 words. There are 26 distinct words in the vocabulary. The proposed word embedded length is 2.258."
   ]
  },
  {
   "cell_type": "markdown",
   "id": "ccfafcb2-7956-49a6-bd9b-78eedf9aceee",
   "metadata": {},
   "source": [
    "##### Tokenizing is breaking the sentence into individual words, padding occurs after text sequencing "
   ]
  },
  {
   "cell_type": "markdown",
   "id": "ff8d7df0-70ec-43bd-b3a6-2d72c143c34b",
   "metadata": {},
   "source": [
    "##### The goal of tokenization is to break a sentence into individual words. For tokenizing this data set the number of words was set at 8000 because that is more than the longest review. The vocab size was set at 64 because that is what is recommended and is greater than the vocab at 26. The max length was set at 52 as that is what is recommended. "
   ]
  },
  {
   "cell_type": "code",
   "execution_count": 34,
   "id": "32f1843f-0b0b-4771-91ac-1600cd639dcb",
   "metadata": {},
   "outputs": [],
   "source": [
    "review_text = df.review_text.values\n",
    "tokenizer = Tokenizer(num_words=8000)\n",
    "tokenizer.fit_on_texts(review_text)\n",
    "vocab_size = 64\n",
    "encoded_docs = tokenizer.texts_to_sequences(review_text)\n",
    "padded_sequence = pad_sequences(encoded_docs, maxlen=52, padding='post')"
   ]
  },
  {
   "cell_type": "code",
   "execution_count": 35,
   "id": "4cb4dafb-c808-4439-984f-7cf3cedf84d2",
   "metadata": {},
   "outputs": [
    {
     "name": "stdout",
     "output_type": "stream",
     "text": [
      "{'the': 1, 'and': 2, 'i': 3, 'a': 4, 'is': 5, 'it': 6, 'to': 7, 'this': 8, 'of': 9, 'was': 10, 'in': 11, 'for': 12, 'not': 13, 'that': 14, 'with': 15, 'my': 16, 'very': 17, 'good': 18, 'on': 19, 'great': 20, 'you': 21, 'but': 22, 'movie': 23, 'are': 24, 'have': 25, 'as': 26, 'so': 27, 'phone': 28, 'film': 29, 'be': 30, 'all': 31, 'one': 32, '0': 33, 'had': 34, '1': 35, 'at': 36, 'food': 37, 'like': 38, 'just': 39, 'place': 40, 'time': 41, \"it's\": 42, 'service': 43, 'if': 44, 'were': 45, 'really': 46, 'an': 47, 'bad': 48, 'there': 49, 'from': 50, 'they': 51, 'we': 52, 'well': 53, 'out': 54, 'has': 55, 'would': 56, 'about': 57, 'no': 58, 'your': 59, 'or': 60, 'best': 61, 'only': 62, 'by': 63, 'even': 64, \"don't\": 65, 'here': 66, 'ever': 67, 'up': 68, 'also': 69, 'back': 70, 'will': 71, 'when': 72, 'me': 73, 'than': 74, 'more': 75, 'quality': 76, 'go': 77, 'what': 78, 'love': 79, 'he': 80, \"i've\": 81, 'made': 82, 'can': 83, 'because': 84, 'product': 85, 'which': 86, 'get': 87, 'how': 88, 'too': 89, 'work': 90, 'any': 91, 'their': 92, 'excellent': 93, 'works': 94, 'could': 95, 'never': 96, 'nice': 97, 'after': 98, 'some': 99, 'do': 100, \"i'm\": 101, 'sound': 102, 'recommend': 103, 'been': 104, 'much': 105, 'again': 106, 'better': 107, 'did': 108, 'use': 109, 'our': 110, 'other': 111, 'headset': 112, 'who': 113, 'his': 114, 'battery': 115, 'think': 116, 'first': 117, 'way': 118, 'them': 119, 'pretty': 120, 'acting': 121, \"didn't\": 122, 'its': 123, 'see': 124, 'make': 125, 'most': 126, 'over': 127, 'worst': 128, 'now': 129, 'got': 130, 'still': 131, '2': 132, '10': 133, 'does': 134, 'everything': 135, 'enough': 136, 'say': 137, 'two': 138, 'ear': 139, 'little': 140, 'disappointed': 141, 'am': 142, 'every': 143, 'right': 144, 'then': 145, 'going': 146, 'thing': 147, 'price': 148, 'these': 149, 'being': 150, 'characters': 151, 'minutes': 152, 'waste': 153, 'real': 154, 'off': 155, 'definitely': 156, 'terrible': 157, 'amazing': 158, 'money': 159, 'people': 160, 'case': 161, 'new': 162, 'know': 163, 'experience': 164, 'movies': 165, 'both': 166, 'look': 167, 'came': 168, 'friendly': 169, \"doesn't\": 170, 'few': 171, 'plot': 172, 'story': 173, 'far': 174, 'into': 175, 'poor': 176, 'piece': 177, 'worth': 178, 'many': 179, 'her': 180, 'long': 181, 'years': 182, 'life': 183, 'used': 184, \"won't\": 185, 'us': 186, 'want': 187, 'lot': 188, 'while': 189, 'quite': 190, 'nothing': 191, 'seen': 192, 'wonderful': 193, 'restaurant': 194, 'she': 195, 'happy': 196, 'screen': 197, 'always': 198, \"can't\": 199, 'script': 200, 'highly': 201, 'found': 202, 'give': 203, 'anyone': 204, 'films': 205, 'character': 206, 'delicious': 207, 'camera': 208, 'down': 209, 'easy': 210, 'times': 211, 'another': 212, \"wasn't\": 213, 'vegas': 214, 'went': 215, 'bought': 216, 'absolutely': 217, 'loved': 218, 'car': 219, 'fine': 220, 'buy': 221, 'should': 222, 'worked': 223, 'funny': 224, 'probably': 225, 'however': 226, 'awful': 227, 'watching': 228, 'comfortable': 229, 'since': 230, 'big': 231, 'item': 232, 'around': 233, 'same': 234, 'slow': 235, 'awesome': 236, 'thought': 237, 'horrible': 238, 'stars': 239, 'take': 240, 'charger': 241, 'impressed': 242, 'makes': 243, 'end': 244, 'cool': 245, 'music': 246, 'where': 247, 'before': 248, 'those': 249, 'show': 250, 'totally': 251, 'scenes': 252, 'actors': 253, 'watch': 254, 'staff': 255, 'eat': 256, 'must': 257, '5': 258, 'find': 259, 'such': 260, \"couldn't\": 261, 'job': 262, 'small': 263, 'fantastic': 264, 'night': 265, 'overall': 266, 'part': 267, 'old': 268, 'things': 269, 'day': 270, 'come': 271, 'cast': 272, 'line': 273, 'though': 274, 'last': 275, 'talk': 276, 'bluetooth': 277, 'beautiful': 278, 'black': 279, 'reception': 280, 'cheap': 281, 'ordered': 282, 'family': 283, 'stupid': 284, 'said': 285, 'feel': 286, 'perfect': 287, 'chicken': 288, 'problem': 289, 'sure': 290, 'performance': 291, 'done': 292, 'avoid': 293, 'low': 294, 'fresh': 295, 'special': 296, 'problems': 297, 'charge': 298, '3': 299, 'actually': 300, 'working': 301, 'order': 302, 'tried': 303, 'between': 304, 'kind': 305, 'simply': 306, 'felt': 307, \"i'd\": 308, 'bit': 309, 'customer': 310, 'try': 311, 'anything': 312, 'sucks': 313, 'especially': 314, 'hard': 315, 'coming': 316, 'interesting': 317, 'menu': 318, 'salad': 319, 'pizza': 320, 'each': 321, 'everyone': 322, 'hear': 323, 'calls': 324, 'looks': 325, 'purchase': 326, 'expect': 327, 'fit': 328, 'fast': 329, 'cell': 330, 'completely': 331, 'year': 332, 'away': 333, 'liked': 334, 'next': 335, 'man': 336, 'scene': 337, 'enjoyed': 338, 'writing': 339, 'worse': 340, 'taste': 341, 'wait': 342, 'steak': 343, 'without': 344, 'left': 345, 'short': 346, 'clear': 347, 'different': 348, 'gets': 349, 'device': 350, 'super': 351, 'white': 352, 'call': 353, 'almost': 354, 'either': 355, 'whole': 356, \"i'll\": 357, 'rather': 358, 'bland': 359, 'through': 360, 'hour': 361, 'fact': 362, 'art': 363, 'server': 364, 'sushi': 365, 'flavor': 366, 'plug': 367, 'volume': 368, 'several': 369, 'started': 370, 'design': 371, \"that's\": 372, 'three': 373, 'least': 374, 'seriously': 375, 'play': 376, 'may': 377, 'perfectly': 378, 'put': 379, 'incredible': 380, 'extremely': 381, 'tell': 382, 'return': 383, 'disappointing': 384, 'looking': 385, 'having': 386, 'crap': 387, 'deal': 388, 'understand': 389, 'unfortunately': 390, 'took': 391, 'sucked': 392, 'enjoy': 393, 'believe': 394, 'saw': 395, 'buffet': 396, 'dialogue': 397, 'watched': 398, 'atmosphere': 399, 'burger': 400, 'need': 401, 'using': 402, 'motorola': 403, 'received': 404, 'huge': 405, 'high': 406, 'light': 407, 'full': 408, 'fits': 409, 'getting': 410, 'during': 411, 'hours': 412, 'less': 413, 'side': 414, 'once': 415, 'stay': 416, \"there's\": 417, 'certainly': 418, 'mess': 419, 'disappointment': 420, 'hands': 421, 'care': 422, 'hot': 423, 'wrong': 424, 'barely': 425, 'truly': 426, 'mediocre': 427, 'soon': 428, 'feeling': 429, 'ending': 430, 'boring': 431, 'tasty': 432, 'meal': 433, 'fun': 434, 'wasted': 435, 'original': 436, 'yet': 437, 'days': 438, 'months': 439, 'recommended': 440, 'kept': 441, 'home': 442, 'strong': 443, 'pleased': 444, 'voice': 445, 'area': 446, 'glad': 447, 'gave': 448, 'oh': 449, 'star': 450, 'none': 451, 'own': 452, 'something': 453, 'effects': 454, 'easily': 455, 'inside': 456, 'top': 457, 'predictable': 458, 'cinematography': 459, 'director': 460, 'why': 461, 'cold': 462, 'selection': 463, 'prices': 464, 'sauce': 465, 'lunch': 466, 'breakfast': 467, 'waited': 468, 'decent': 469, 'helpful': 470, 'turn': 471, 'picture': 472, 'priced': 473, 'dropped': 474, 'phones': 475, 'seems': 476, 'world': 477, 'wear': 478, 'series': 479, 'broke': 480, 'set': 481, 'house': 482, 'check': 483, 'company': 484, 'junk': 485, 'amazon': 486, 'ago': 487, 'couple': 488, 'face': 489, 'self': 490, 'trying': 491, 'wanted': 492, 'keep': 493, '20': 494, 'cannot': 495, 'guess': 496, 'bar': 497, 'tv': 498, 'together': 499, 'making': 500, 'places': 501, 'half': 502, 'kids': 503, 'directing': 504, 'game': 505, 'actor': 506, 'horror': 507, 'myself': 508, 'playing': 509, 'drama': 510, 'waitress': 511, 'second': 512, 'style': 513, 'spot': 514, 'eating': 515, 'fries': 516, 'table': 517, 'sandwich': 518, 'meat': 519, 'dishes': 520, 'clean': 521, 'value': 522, 'simple': 523, 'hate': 524, 'garbage': 525, 'audio': 526, 'mind': 527, 'verizon': 528, 'buttons': 529, 'let': 530, 'arrived': 531, 'quickly': 532, 'free': 533, 'ask': 534, 'jabra': 535, \"wouldn't\": 536, 'obviously': 537, 'lost': 538, 'mostly': 539, 'expected': 540, 'important': 541, 'someone': 542, 'weak': 543, 'average': 544, 'finally': 545, 'today': 546, 'comes': 547, 'unit': 548, 'under': 549, 'given': 550, 'quick': 551, 'plus': 552, 'point': 553, 'pay': 554, 'told': 555, 'entire': 556, '4': 557, 'else': 558, 'fails': 559, 'cinema': 560, 'itself': 561, 'suspense': 562, 'him': 563, 'played': 564, 'beer': 565, 'dish': 566, 'dining': 567, 'spicy': 568, 'rude': 569, 'tasted': 570, 'book': 571, 'reasonable': 572, 'front': 573, 'week': 574, 'later': 575, 'feels': 576, 'headsets': 577, 'within': 578, 'pictures': 579, 'although': 580, 'wife': 581, 'software': 582, 'brilliant': 583, 'superb': 584, 'charm': 585, 'useless': 586, 'color': 587, 'room': 588, 'authentic': 589, 'cable': 590, 'nokia': 591, 'outside': 592, 'others': 593, 'waiting': 594, 'might': 595, 'solid': 596, 'review': 597, 'store': 598, 'above': 599, 'friends': 600, \"isn't\": 601, 'course': 602, 'needed': 603, 'whatever': 604, 'management': 605, 'joy': 606, 'lines': 607, 'non': 608, 'hilarious': 609, 'budget': 610, 'single': 611, 'editing': 612, 'written': 613, 'annoying': 614, 'twice': 615, 'classic': 616, 'bring': 617, 'possible': 618, 'beyond': 619, 'close': 620, 'john': 621, 'action': 622, 'hope': 623, 'location': 624, 'sick': 625, 'subtle': 626, 'drive': 627, '30': 628, 'comedy': 629, 'heart': 630, 'human': 631, 'tender': 632, 'served': 633, 'overpriced': 634, 'warm': 635, 'waiter': 636, 'attentive': 637, 'cooked': 638, 'town': 639, 'ambiance': 640, 'chips': 641, 'unless': 642, 'blue': 643, 'below': 644, 'bars': 645, 'hold': 646, 'ears': 647, 'features': 648, 'loud': 649, 'instead': 650, 'large': 651, 'headphones': 652, 'perhaps': 653, 'particular': 654, 'player': 655, 'songs': 656, 'sometimes': 657, 'longer': 658, 'costs': 659, 'dont': 660, 'signal': 661, 'basically': 662, 'literally': 663, 'seemed': 664, 'internet': 665, 'goes': 666, 'whether': 667, 'hit': 668, 'thin': 669, 'bother': 670, 'range': 671, 'living': 672, 'child': 673, 'mistake': 674, 'whatsoever': 675, '8': 676, 'feature': 677, 'poorly': 678, 'clever': 679, 'lacking': 680, 'reason': 681, 'exactly': 682, 'dead': 683, 'plastic': 684, 'mention': 685, 'difficult': 686, 'seem': 687, 'zero': 688, 'joke': 689, 'walked': 690, 'idea': 691, \"they're\": 692, 'samsung': 693, 'cases': 694, 'extra': 695, 'reviews': 696, 'happened': 697, 'despite': 698, 'elsewhere': 699, 'wall': 700, 'hand': 701, 'rare': 702, 'lots': 703, 'until': 704, 'setting': 705, 'word': 706, 'rating': 707, 'rest': 708, 'wow': 709, 'girl': 710, 'running': 711, 'lacks': 712, 'casting': 713, 'history': 714, 'amount': 715, 'lovely': 716, 'performances': 717, 'believable': 718, 'portrayal': 719, 'sat': 720, 'gives': 721, 'business': 722, 'terrific': 723, 'rent': 724, 'fish': 725, 'maybe': 726, 'holes': 727, 'considering': 728, 'memorable': 729, 'sweet': 730, 'seeing': 731, 'become': 732, 'leave': 733, 'throughout': 734, 'looked': 735, \"you're\": 736, 'damn': 737, 'pho': 738, 'potato': 739, 'dinner': 740, 'charging': 741, 'owned': 742, '7': 743, 'mobile': 744, 'provided': 745, 'moving': 746, 'sturdy': 747, 'party': 748, 'cover': 749, 'person': 750, 'choice': 751, 'holds': 752, 'bargain': 753, 'shipping': 754, 'rated': 755, 'impressive': 756, 'fall': 757, 'leather': 758, 'weeks': 759, 'stuff': 760, 'forever': 761, 'graphics': 762, 'options': 763, 'needs': 764, 'recently': 765, \"you'll\": 766, 'incredibly': 767, 'reasonably': 768, 'form': 769, 'embarrassing': 770, 'favorite': 771, 'cute': 772, 'adorable': 773, 'buying': 774, 'cant': 775, 'games': 776, 'belt': 777, 'data': 778, 'along': 779, 'sides': 780, 'satisfied': 781, \"you'd\": 782, 'note': 783, 'clarity': 784, 'wish': 785, 'turned': 786, 'reading': 787, 'computer': 788, 'ability': 789, 'ended': 790, 'replace': 791, 'touch': 792, 'total': 793, 't': 794, 'please': 795, 'trash': 796, 'connection': 797, 'wind': 798, 'rate': 799, 'beat': 800, 'shots': 801, 'etc': 802, 'generally': 803, 'break': 804, 'thumbs': 805, 'dirty': 806, \"haven't\": 807, 'utterly': 808, 'flat': 809, 'audience': 810, 'ridiculous': 811, 'empty': 812, 'consider': 813, 'production': 814, '\\x96': 815, 'level': 816, 'deserves': 817, 'lame': 818, \"aren't\": 819, 'mouth': 820, 'list': 821, 'trip': 822, 'imagination': 823, 'cult': 824, 'mean': 825, 'lead': 826, 'hitchcock': 827, 'thriller': 828, 'usual': 829, 'pathetic': 830, 'lacked': 831, 'plain': 832, 'soundtrack': 833, 'eyes': 834, 'water': 835, 'shot': 836, 'dry': 837, 'fan': 838, 'involved': 839, 'period': 840, 'particularly': 841, 'par': 842, 'unbelievable': 843, 'sub': 844, '40': 845, 'sad': 846, 'asked': 847, 'portions': 848, 'shrimp': 849, 'dessert': 850, 'beef': 851, 'servers': 852, 'seafood': 853, 'pasta': 854, 'tasteless': 855, 'thai': 856, 'eaten': 857, 'seated': 858, 'bacon': 859, 'ice': 860, 'bread': 861, 'fried': 862, 'anytime': 863, 'mic': 864, 'sending': 865, 'owner': 866, 'clip': 867, 'advise': 868, 'website': 869, 'pair': 870, 'run': 871, 'instructions': 872, 'pull': 873, 'included': 874, 'keyboard': 875, 'turns': 876, 'forget': 877, 'support': 878, 'clearly': 879, 'fairly': 880, 'trouble': 881, 'station': 882, 'purchased': 883, 'loves': 884, 'decision': 885, 'rocks': 886, 'number': 887, 'comfortably': 888, 'failed': 889, 'takes': 890, 's': 891, 'tool': 892, 'share': 893, 'wasting': 894, 'offers': 895, 'network': 896, 'likes': 897, 'lasts': 898, 'nearly': 899, 'anyway': 900, 'able': 901, 'issues': 902, 'lightweight': 903, 'hair': 904, 'market': 905, 'earpiece': 906, 'unreliable': 907, 'seller': 908, 'plantronics': 909, 'charged': 910, 'strip': 911, 'gotten': 912, 'immediately': 913, 'easier': 914, 'appealing': 915, 'happier': 916, 'starts': 917, 'effective': 918, 'weird': 919, 'appearance': 920, 'q': 921, 'expensive': 922, 'results': 923, 'roles': 924, 'im': 925, 'palm': 926, 'missed': 927, 'cingular': 928, 'hated': 929, 'ringtones': 930, 'due': 931, 'stop': 932, 'plays': 933, 'doing': 934, '50': 935, 'treo': 936, 'genuine': 937, 'red': 938, 'ready': 939, 'chinese': 940, 'crisp': 941, 'video': 942, 'power': 943, 'passed': 944, 'shows': 945, 'cut': 946, 'somewhat': 947, 'cost': 948, 'son': 949, 'addition': 950, '12': 951, 'disgusting': 952, 'five': 953, 'yes': 954, 'checked': 955, 'says': 956, 'ok': 957, 'wonderfully': 958, 'christmas': 959, 'directed': 960, 'young': 961, 'song': 962, 'head': 963, 'showed': 964, 'main': 965, 'tale': 966, 'greatest': 967, 'gem': 968, 'true': 969, 'words': 970, 'massive': 971, 'flick': 972, 'pg': 973, 'complete': 974, 'green': 975, 'convincing': 976, 'tom': 977, 'honestly': 978, 'follow': 979, 'energy': 980, 'pretentious': 981, 'chemistry': 982, 'fear': 983, 'direction': 984, 'depth': 985, 'bunch': 986, 'paid': 987, 'storyline': 988, 'boyfriend': 989, 'gone': 990, 'already': 991, 'attempt': 992, 'torture': 993, 'pleasant': 994, 'premise': 995, 'silent': 996, 'ups': 997, 'age': 998, 'ray': 999, 'remember': 1000, 'attention': 1001, 'themselves': 1002, 'visual': 1003, 'mexican': 1004, 'indeed': 1005, 'thoroughly': 1006, 'theater': 1007, 'intelligence': 1008, 'intelligent': 1009, 'entertaining': 1010, 'bored': 1011, 'guy': 1012, 'towards': 1013, 'enjoyable': 1014, '90': 1015, 'parts': 1016, 'sets': 1017, 'stories': 1018, 'created': 1019, 'role': 1020, 'scamp': 1021, 'charming': 1022, 'insult': 1023, 'death': 1024, 'rolls': 1025, 'space': 1026, 'conclusion': 1027, 'ten': 1028, 'crowd': 1029, 'james': 1030, 'vibe': 1031, 'honest': 1032, 'known': 1033, 'nasty': 1034, 'delight': 1035, 'thinking': 1036, 'heard': 1037, 'italian': 1038, 'beginning': 1039, 'appreciate': 1040, 'recent': 1041, 'yourself': 1042, 'tacos': 1043, 'tables': 1044, 'salmon': 1045, 'visit': 1046, 'establishment': 1047, 'husband': 1048, 'drinks': 1049, 'rice': 1050, 'yummy': 1051, \"we'll\": 1052, 'wine': 1053, 'steaks': 1054, 'pork': 1055, 'burgers': 1056, 'cream': 1057, 'drink': 1058, 'bay': 1059, 'phoenix': 1060, 'wings': 1061, 'chef': 1062, 'tea': 1063, 'soup': 1064, 'owners': 1065, 'manager': 1066, 'jawbone': 1067, 'conversations': 1068, 'lasting': 1069, 'contacts': 1070, 'imagine': 1071, 'razr': 1072, 'needless': 1073, 'static': 1074, 'fire': 1075, 'pocket': 1076, 'pc': 1077, 'combination': 1078, 'speed': 1079, 'worthless': 1080, 'thats': 1081, 'gonna': 1082, 'returned': 1083, 'protection': 1084, 'machine': 1085, '15': 1086, 'seconds': 1087, '510': 1088, 'complaints': 1089, \"phone's\": 1090, 'glasses': 1091, 'quiet': 1092, 'saying': 1093, 'packaged': 1094, '6': 1095, 'construction': 1096, 'boy': 1097, 'loads': 1098, 'ease': 1099, 'plan': 1100, 'beware': 1101, 'supposedly': 1102, 'match': 1103, 'pros': 1104, 'flaw': 1105, 'expectations': 1106, 'display': 1107, 'sex': 1108, 'setup': 1109, 'earpieces': 1110, 'bt': 1111, 'earbud': 1112, 'coverage': 1113, 'tremendous': 1114, 'minute': 1115, 'experienced': 1116, 'drops': 1117, 'description': 1118, 'hoping': 1119, 'sounds': 1120, 'previous': 1121, 'sharp': 1122, 'chargers': 1123, 'handsfree': 1124, '13': 1125, 'bucks': 1126, 'replacement': 1127, 'strange': 1128, 'means': 1129, 'sony': 1130, 'comfort': 1131, 'type': 1132, 'aspect': 1133, 'appears': 1134, 'drain': 1135, 'fry': 1136, 'giving': 1137, 'scratched': 1138, 'wise': 1139, 'microphone': 1140, 'uncomfortable': 1141, 'driving': 1142, 'neither': 1143, 'inexpensive': 1144, 'sitting': 1145, 'los': 1146, 'angeles': 1147, 'wireless': 1148, 'save': 1149, 'help': 1150, 'breaks': 1151, 'effect': 1152, 'warning': 1153, 'alone': 1154, 'size': 1155, 'wearing': 1156, 'sunglasses': 1157, 'returning': 1158, 'changing': 1159, 'lg': 1160, 'worthwhile': 1161, 'pricing': 1162, 'regret': 1163, 'user': 1164, 'pitiful': 1165, 'noise': 1166, 'holster': 1167, 'earlier': 1168, 'eye': 1169, 'amazed': 1170, 'orders': 1171, 'thanks': 1172, 'edge': 1173, 'refund': 1174, 'drop': 1175, 'ones': 1176, 'properly': 1177, 'flawed': 1178, 'forced': 1179, 'speaker': 1180, 'constructed': 1181, 'holding': 1182, 'sprint': 1183, 'effort': 1184, 'killer': 1185, 'breaking': 1186, 'stopped': 1187, 'pack': 1188, 'surprised': 1189, 'fabulous': 1190, 'tinny': 1191, 'placed': 1192, 'keeps': 1193, 'falling': 1194, 'tiny': 1195, 'four': 1196, 'spring': 1197, 'tries': 1198, 'interested': 1199, 'continue': 1200, 'pairing': 1201, 'third': 1202, 'balance': 1203, 'explain': 1204, 'usb': 1205, 'biggest': 1206, 'stand': 1207, 'occupied': 1208, 'ripped': 1209, 'iphone': 1210, 'multiple': 1211, 'freedom': 1212, 'mark': 1213, '100': 1214, 'plenty': 1215, 'convenient': 1216, 'date': 1217, 'bottom': 1218, 'wooden': 1219, 'boot': 1220, 'sorry': 1221, 'double': 1222, 'sounded': 1223, 'feet': 1224, 'everywhere': 1225, 'send': 1226, 'describe': 1227, 'letting': 1228, 'material': 1229, 'flaws': 1230, 'exceptional': 1231, 'beep': 1232, 'managed': 1233, 'seat': 1234, 'otherwise': 1235, 'control': 1236, 'complain': 1237, 'lousy': 1238, 'painful': 1239, 'disappoint': 1240, 'speak': 1241, 'meaning': 1242, 'baby': 1243, 'delivers': 1244, 'faux': 1245, 'significant': 1246, 'pure': 1247, 'brilliance': 1248, 'moment': 1249, 'talented': 1250, 'fare': 1251, 'hill': 1252, 'ed': 1253, 'ladies': 1254, 'grace': 1255, 'negative': 1256, 'cause': 1257, 'pointless': 1258, 'children': 1259, 'often': 1260, 'dialog': 1261, 'selections': 1262, 'gross': 1263, 'provoking': 1264, 'paced': 1265, 'lion': 1266, 'acted': 1267, 'checking': 1268, 'occasionally': 1269, 'touching': 1270, 'scenery': 1271, 'paper': 1272, 'mature': 1273, 'episode': 1274, 'remake': 1275, 'nobody': 1276, 'putting': 1277, 'conflict': 1278, 'handled': 1279, 'hell': 1280, 'disaster': 1281, 'treat': 1282, 'crazy': 1283, 'yeah': 1284, 'cartoon': 1285, 'paul': 1286, 'women': 1287, 'brain': 1288, 'redeeming': 1289, 'appalling': 1290, 'presents': 1291, 'screenwriter': 1292, 'step': 1293, 'industry': 1294, 'indulgent': 1295, 'spent': 1296, 'charles': 1297, 'daughter': 1298, 'singing': 1299, 'bore': 1300, 'dancing': 1301, 'dvd': 1302, 'struck': 1303, 'contained': 1304, 'theme': 1305, 'aerial': 1306, 'thrilled': 1307, 'deeply': 1308, 'interest': 1309, 'narrative': 1310, 'actress': 1311, 'called': 1312, 'stunning': 1313, 'surprisingly': 1314, 'released': 1315, 'ranks': 1316, 'journey': 1317, 'memories': 1318, 'summary': 1319, \"weren't\": 1320, 'billy': 1321, 'possibly': 1322, 'trilogy': 1323, 'favourite': 1324, 'judge': 1325, 'wrap': 1326, 'leaves': 1327, 'reviewer': 1328, 'sense': 1329, 'smart': 1330, 'bakery': 1331, \"he's\": 1332, 'actresses': 1333, 'ways': 1334, 'modern': 1335, 'scared': 1336, 'supposed': 1337, 'drago': 1338, 'god': 1339, 'learn': 1340, 'values': 1341, 'photography': 1342, 'steve': 1343, 'war': 1344, 'example': 1345, 'clichés': 1346, 'thrown': 1347, 'nut': 1348, 'scale': 1349, 'glance': 1350, 'score': 1351, 'frightening': 1352, 'oscar': 1353, 'knew': 1354, 'footage': 1355, 'opened': 1356, 'sort': 1357, 'behind': 1358, 'race': 1359, 'including': 1360, 'happen': 1361, 'final': 1362, 'unconvincing': 1363, 'produced': 1364, 'early': 1365, 'documentary': 1366, 'martin': 1367, 'serious': 1368, 'racial': 1369, 'mickey': 1370, 'imaginative': 1371, 'watchable': 1372, 'pace': 1373, 'lighting': 1374, 'past': 1375, \"film's\": 1376, \"90's\": 1377, 'excuse': 1378, 'nonsense': 1379, 'exquisite': 1380, 'south': 1381, 'fans': 1382, 'dark': 1383, 'lady': 1384, 'delightful': 1385, 'beautifully': 1386, 'begin': 1387, 'late': 1388, 'giallo': 1389, 'emotions': 1390, 'belly': 1391, 'dance': 1392, 'spend': 1393, 'write': 1394, 'stinks': 1395, 'writer': 1396, 'suck': 1397, 'stayed': 1398, 'puppets': 1399, 'doubt': 1400, 'guys': 1401, 'hip': 1402, 'realized': 1403, 'animation': 1404, 'added': 1405, 'texture': 1406, 'recommendation': 1407, 'potatoes': 1408, 'brought': 1409, 'sashimi': 1410, 'moist': 1411, 'frozen': 1412, 'greek': 1413, 'dressing': 1414, 'pita': 1415, 'hummus': 1416, 'duck': 1417, 'salt': 1418, 'chewy': 1419, 'tip': 1420, 'cafe': 1421, 'ambience': 1422, 'delish': 1423, 'melt': 1424, 'cheese': 1425, 'subway': 1426, 'restaurants': 1427, 'ate': 1428, 'stale': 1429, 'treated': 1430, 'vegetarian': 1431, 'healthy': 1432, 'decor': 1433, 'butter': 1434, 'egg': 1435, 'dog': 1436, 'live': 1437, 'insulted': 1438, 'brunch': 1439, 'soggy': 1440, 'lobster': 1441, 'folks': 1442, 'flavorful': 1443, 'generous': 1444, 'patio': 1445, 'outstanding': 1446, \"friend's\": 1447, 'pizzas': 1448, 'pulled': 1449, 'vegetables': 1450, 'equally': 1451, 'stomach': 1452, 'beans': 1453, 'regular': 1454, '35': 1455, 'bill': 1456, 'meals': 1457, 'homemade': 1458, 'desserts': 1459, 'edible': 1460, 'seating': 1461, 'salsa': 1462, '45': 1463, 'major': 1464, 'dozen': 1465, 'extended': 1466, 'notice': 1467, 'odd': 1468, 'tooth': 1469, 'wonder': 1470, 'mother': 1471, 'unusable': 1472, 'contract': 1473, 'juice': 1474, 'regarding': 1475, 'pda': 1476, 'neat': 1477, 'gadget': 1478, 'e': 1479, 'essentially': 1480, 'tech': 1481, 'elegant': 1482, 'angle': 1483, 'mp3': 1484, 'skip': 1485, 'lock': 1486, 'died': 1487, 'situations': 1488, 'docking': 1489, 'd807': 1490, 'advertised': 1491, 'handy': 1492, 'cheaper': 1493, 'seamlessly': 1494, 'buyer': 1495, 'apparently': 1496, 'relatively': 1497, 'resolution': 1498, 'slim': 1499, 'toast': 1500, 'sleek': 1501, 'compromise': 1502, 'basic': 1503, 'keypad': 1504, 'unhappy': 1505, 'winner': 1506, 'realize': 1507, 'careful': 1508, 'logitech': 1509, 'recognition': 1510, 'stated': 1511, 'blackberry': 1512, 'technology': 1513, 'messages': 1514, 'faster': 1515, 'build': 1516, 'w810i': 1517, 'whine': 1518, 'maintain': 1519, \"shouldn't\": 1520, 'humans': 1521, 'button': 1522, 'thank': 1523, 'igo': 1524, 'tips': 1525, 'connected': 1526, \"wife's\": 1527, 'latest': 1528, 'storage': 1529, 'buzzing': 1530, 'override': 1531, 'functionality': 1532, 'ring': 1533, 'tone': 1534, 'dropping': 1535, 'hardly': 1536, 'ends': 1537, 'consumer': 1538, 'background': 1539, 'usually': 1540, 'excited': 1541, 'additional': 1542, 'gels': 1543, 'purpose': 1544, 'secure': 1545, 'gosh': 1546, 'attractive': 1547, 'rubber': 1548, 'smell': 1549, 'unbearable': 1550, 'caused': 1551, 'flimsy': 1552, 'scary': 1553, 'month': 1554, 'flawlessly': 1555, 'rotating': 1556, 'thru': 1557, 'cat': 1558, 'removing': 1559, 'compliments': 1560, 'state': 1561, 'allow': 1562, 'dialing': 1563, 'ipod': 1564, 'practically': 1565, 'add': 1566, 'boost': 1567, 'finished': 1568, 'ringing': 1569, 'auto': 1570, 'hurt': 1571, 'push': 1572, 'skype': 1573, 'shipped': 1574, 'promptly': 1575, 'prompt': 1576, 'noticed': 1577, 'era': 1578, 'colored': 1579, 'cheaply': 1580, 'distorted': 1581, 'forgot': 1582, 'model': 1583, 'finds': 1584, 'enter': 1585, 'modest': 1586, 'dying': 1587, 'built': 1588, 'install': 1589, 'purchasing': 1590, 'moto': 1591, 'figure': 1592, 'key': 1593, 'fully': 1594, 'fi': 1595, 'memory': 1596, 'card': 1597, 'timely': 1598, 'update': 1599, 'cumbersome': 1600, 'delivery': 1601, 'switch': 1602, 'batteries': 1603, 'receiving': 1604, 'exchanged': 1605, 'cellphone': 1606, 'described': 1607, '11': 1608, 'nyc': 1609, 'defective': 1610, 'unacceptable': 1611, 'catching': 1612, 'function': 1613, 'timeframe': 1614, 'complaint': 1615, 'standard': 1616, 'ugly': 1617, 'improvement': 1618, 'accidentally': 1619, 'listening': 1620, 'kitchen': 1621, 'conversation': 1622, 'practical': 1623, 'ample': 1624, 'eargels': 1625, 'channel': 1626, 'frustration': 1627, 'understanding': 1628, 'menus': 1629, 'broken': 1630, 'development': 1631, 'knows': 1632, 'operate': 1633, 'paired': 1634, 'normally': 1635, 'apart': 1636, 'brand': 1637, 'players': 1638, 'comments': 1639, 'performed': 1640, 'echo': 1641, 'overly': 1642, 'warranty': 1643, 'produce': 1644, 'luck': 1645, 'exchange': 1646, 'utter': 1647, 'download': 1648, 'smoothly': 1649, 'study': 1650, 'access': 1651, 'somehow': 1652, 'flash': 1653, 'tones': 1654, 'prime': 1655, 'jack': 1656, 'accept': 1657, 'except': 1658, 'allows': 1659, 'open': 1660, 'allowing': 1661, 'numbers': 1662, 'r': 1663, 'crashed': 1664, 'quit': 1665, 'flip': 1666, 'via': 1667, 'outlet': 1668, 'span': 1669, 'signs': 1670, 'sizes': 1671, 'provides': 1672, 'classy': 1673, 'mainly': 1674, 'metro': 1675, 'smoke': 1676, 'carries': 1677, 'highest': 1678, 'protector': 1679, 'wont': 1680, 'impossible': 1681, 'refused': 1682, 'discount': 1683, 'talking': 1684, 'telephone': 1685, 'plugged': 1686, 'ordering': 1687, 'awkward': 1688, 'father': 1689, 'row': 1690, 'current': 1691, 'answer': 1692, 'read': 1693, 'laptop': 1694, 'discomfort': 1695, 'normal': 1696, 'confusing': 1697, 'lose': 1698, 'cutouts': 1699, 'cuts': 1700, 'wild': 1701, 'carry': 1702, 'loose': 1703, 'receive': 1704, 'lightly': 1705, 'against': 1706, 'certain': 1707, 'unsatisfactory': 1708, 'hype': 1709, 'covered': 1710, 'falls': 1711, 'blew': 1712, 'touches': 1713, 'whom': 1714, 'angles': 1715, 'became': 1716, 'jimmy': 1717, 'sisters': 1718, 'terms': 1719, 'masterpiece': 1720, 'sea': 1721, 'masterpieces': 1722, 'fill': 1723, 'imaginable': 1724, 'pieces': 1725, 'create': 1726, 'levels': 1727, 'canada': 1728, 'sequel': 1729, 'unfunny': 1730, 'generic': 1731, 'morgan': 1732, 'jonah': 1733, 'lazy': 1734, 'presence': 1735, 'obvious': 1736, 'lesser': 1737, 'french': 1738, 'whiny': 1739, 'future': 1740, 'anne': 1741, '9': 1742, 'warmth': 1743, 'delivering': 1744, 'unpredictable': 1745, 'badly': 1746, 'parents': 1747, 'alexander': 1748, 'artist': 1749, 'lived': 1750, 'superbly': 1751, 'b': 1752, 'heaven': 1753, 'lives': 1754, 'church': 1755, 'uplifting': 1756, 'frankly': 1757, 'club': 1758, 'lane': 1759, 'chick': 1760, 'correct': 1761, 'bold': 1762, 'helps': 1763, 'afraid': 1764, 'tremendously': 1765, 'sandra': 1766, 'bullock': 1767, 'moments': 1768, 'losing': 1769, 'ratings': 1770, 'dramatic': 1771, 'tension': 1772, 'central': 1773, 'themes': 1774, 'core': 1775, 'viewing': 1776, 'quinn': 1777, 'girlfriend': 1778, 'disliked': 1779, 'dollars': 1780, 'mad': 1781, 'cardboard': 1782, 'stereotypes': 1783, 'crafted': 1784, 'depressing': 1785, 'racism': 1786, 'charisma': 1787, 'explanation': 1788, \"hasn't\": 1789, 'drag': 1790, 'wayne': 1791, 'older': 1792, \"hadn't\": 1793, 'noteworthy': 1794, 'blood': 1795, 'forth': 1796, 'jamie': 1797, 'genius': 1798, 'hence': 1799, 'mishima': 1800, 'uninteresting': 1801, 'chilly': 1802, 'schrader': 1803, 'realistic': 1804, 'talent': 1805, \"director's\": 1806, 'chance': 1807, 'master': 1808, 'senses': 1809, 'june': 1810, 'angry': 1811, 'spoilers': 1812, 'fx': 1813, 'sour': 1814, 'matter': 1815, 'noir': 1816, 'complex': 1817, 'psychological': 1818, 'soul': 1819, 'gripping': 1820, 'disturbing': 1821, 'jerky': 1822, 'camerawork': 1823, 'witty': 1824, 'ceases': 1825, 'directors': 1826, 'visually': 1827, 'spoiler': 1828, 'remaining': 1829, 'suffering': 1830, 'smile': 1831, 'vomited': 1832, '25': 1833, 'unfolds': 1834, 'contrast': 1835, 'sublime': 1836, 'offensive': 1837, 'poetry': 1838, 'masterful': 1839, 'disbelief': 1840, 'female': 1841, 'array': 1842, 'nuts': 1843, 'dangerous': 1844, 'reactions': 1845, 'twist': 1846, 'shed': 1847, 'underneath': 1848, 'wide': 1849, 'relationship': 1850, 'assistant': 1851, 'stage': 1852, 'laugh': 1853, 'de': 1854, 'taped': 1855, 'wholesome': 1856, 'portraying': 1857, 'taking': 1858, 'forgetting': 1859, 'attempts': 1860, 'situation': 1861, 'bear': 1862, 'kinda': 1863, 'question': 1864, 'lucy': 1865, 'japanese': 1866, 'composition': 1867, 'brian': 1868, 'largely': 1869, 'member': 1870, 'identify': 1871, \"huston's\": 1872, 'ruthless': 1873, 'robert': 1874, 'murdered': 1875, 'humour': 1876, \"'cover\": 1877, \"girl'\": 1878, 'hollywood': 1879, 'thus': 1880, 'undoubtedly': 1881, 'popular': 1882, 'positive': 1883, 'unique': 1884, 'european': 1885, 'circumstances': 1886, 'caught': 1887, 'angel': 1888, 'junkyard': 1889, 'dogs': 1890, 'american': 1891, 'americans': 1892, 'pile': 1893, 'round': 1894, 'continuity': 1895, 'corn': 1896, 'box': 1897, 'directorial': 1898, 'proud': 1899, 'sand': 1900, 'sake': 1901, 'jobs': 1902, 'public': 1903, 'relations': 1904, 'stanwyck': 1905, 'surprising': 1906, 'entirely': 1907, 'cheesy': 1908, 'proceedings': 1909, 'remotely': 1910, 'mercy': 1911, 'killing': 1912, 'overacting': 1913, 'awkwardly': 1914, 'english': 1915, 'hackneyed': 1916, 'blah': 1917, 'balanced': 1918, \"would've\": 1919, 'length': 1920, 'air': 1921, 'afternoon': 1922, 'creates': 1923, 'fascinating': 1924, 'humorous': 1925, 'filmed': 1926, 'thoughts': 1927, 'dislike': 1928, 'began': 1929, 'change': 1930, 'season': 1931, 'contains': 1932, '17': 1933, 'reality': 1934, 'century': 1935, 'implausible': 1936, 'jean': 1937, 'studio': 1938, 'indoor': 1939, 'start': 1940, 'middle': 1941, 'class': 1942, 'betty': 1943, 'aside': 1944, 'mouse': 1945, 'famous': 1946, 'ground': 1947, 'pleaser': 1948, 'turkey': 1949, 'among': 1950, 'terribly': 1951, 'deserving': 1952, 'shame': 1953, 'credit': 1954, 'version': 1955, \"let's\": 1956, 'dumb': 1957, 'zombie': 1958, 'monster': 1959, 'lack': 1960, 'notable': 1961, 'opening': 1962, 'sequence': 1963, 'gas': 1964, 'fair': 1965, 'sum': 1966, 'avoided': 1967, 'limited': 1968, 'sign': 1969, 'asleep': 1970, 'cartoons': 1971, 'deserved': 1972, 'element': 1973, 'sit': 1974, 'fifteen': 1975, 'volcano': 1976, 'abysmal': 1977, 'vomit': 1978, 'miss': 1979, 'dedication': 1980, 'versus': 1981, 'brings': 1982, 'focus': 1983, 'underlying': 1984, 'relationships': 1985, 'engaging': 1986, \"master's\": 1987, 'errol': 1988, 'flynn': 1989, 'dull': 1990, 'guests': 1991, 'surrounding': 1992, 'excellently': 1993, 'tops': 1994, 'typical': 1995, 'sci': 1996, 'revealing': 1997, 'africa': 1998, 'process': 1999, 'shakespear': 2000, 'macbeth': 2001, 'moral': 2002, 'decay': 2003, 'forces': 2004, 'evil': 2005, 'adaptation': 2006, 'costumes': 2007, 'ball': 2008, 'wilkinson': 2009, 'judging': 2010, 'difference': 2011, 'documentaries': 2012, \"joe's\": 2013, 'watkins': 2014, 'peter': 2015, 'hollow': 2016, 'laughable': 2017, 'expert': 2018, 'ass': 2019, 'fat': 2020, 'cole': 2021, 'disgrace': 2022, 'sleep': 2023, 'achievement': 2024, \"kid's\": 2025, 'tough': 2026, 'whenever': 2027, 'earth': 2028, 'emily': 2029, 'prepared': 2030, 'compelling': 2031, 'sentiment': 2032, 'trap': 2033, 'fulci': 2034, 'genre': 2035, 'personally': 2036, 'thick': 2037, 'blown': 2038, 'events': 2039, 'result': 2040, 'slightest': 2041, 'duet': 2042, 'doctor': 2043, 'extraordinary': 2044, 'courtroom': 2045, 'highlights': 2046, 'discovering': 2047, 'court': 2048, 'understated': 2049, 'based': 2050, 'smells': 2051, 'male': 2052, 'phenomenal': 2053, 'opinion': 2054, 'neil': 2055, 'delights': 2056, 'sample': 2057, 'deliver': 2058, 'sharply': 2059, 'tongue': 2060, 'cheek': 2061, 'struggle': 2062, 'heads': 2063, 'reminded': 2064, 'childhood': 2065, 'further': 2066, 'lord': 2067, 'atrocious': 2068, 'spoil': 2069, 'references': 2070, 'act': 2071, 'pacing': 2072, 'consistent': 2073, 'dreams': 2074, 'uses': 2075, 'hopefully': 2076, 'loneliness': 2077, 'emilio': 2078, 'interplay': 2079, 'suggest': 2080, 'natural': 2081, 'street': 2082, 'readers': 2083, \"miyazaki's\": 2084, 'hearts': 2085, 'closed': 2086, 'depicts': 2087, \"we'd\": 2088, 'reasons': 2089, 'refreshing': 2090, 'traditional': 2091, 'wants': 2092, 'wave': 2093, 'lange': 2094, 'crust': 2095, 'cashier': 2096, 'mmmm': 2097, 'overwhelmed': 2098, 'bite': 2099, 'familiar': 2100, 'favor': 2101, 'grossed': 2102, 'char': 2103, 'attitudes': 2104, 'customers': 2105, 'portion': 2106, 'attack': 2107, 'grill': 2108, 'downtown': 2109, 'scallop': 2110, 'refill': 2111, 'appetizers': 2112, 'batter': 2113, 'finish': 2114, 'meh': 2115, 'min': 2116, 'seasoned': 2117, 'opportunity': 2118, 'underwhelming': 2119, 'grease': 2120, 'roast': 2121, 'sugary': 2122, 'six': 2123, 'die': 2124, 'bye': 2125, 'serves': 2126, 'roasted': 2127, 'garlic': 2128, 'marrow': 2129, 'bartender': 2130, 'lovers': 2131, 'busy': 2132, 'preparing': 2133, 'indian': 2134, 'crispy': 2135, 'tuna': 2136, 'bagels': 2137, 'dine': 2138, 'rarely': 2139, 'curry': 2140, 'bathrooms': 2141, 'decorated': 2142, 'greeted': 2143, 'joint': 2144, 'overcooked': 2145, 'charcoal': 2146, 'decided': 2147, 'dirt': 2148, 'gyros': 2149, 'valley': 2150, 'bowl': 2151, 'disrespected': 2152, 'stepped': 2153, 'gold': 2154, 'puree': 2155, 'bug': 2156, \"we're\": 2157, 'friend': 2158, 'shower': 2159, 'bisque': 2160, 'filet': 2161, 'pepper': 2162, 'cook': 2163, 'dealing': 2164, 'cheeseburger': 2165, 'yum': 2166, 'mayo': 2167, 'building': 2168, 'creamy': 2169, 'similar': 2170, 'sticks': 2171, 'tap': 2172, 'coffee': 2173, 'boba': 2174, 'taco': 2175, 'bachi': 2176, 'salads': 2177, 'neighborhood': 2178, 'soooo': 2179, 'stir': 2180, 'summer': 2181, 'toasted': 2182, 'serve': 2183, 'mom': 2184, 'bites': 2185, 'omg': 2186, 'brick': 2187, 'oven': 2188, 'pancakes': 2189, 'eggs': 2190, 'evening': 2191, 'lukewarm': 2192, 'stuffed': 2193, 'mall': 2194, 'perfection': 2195, 'impeccable': 2196, 'pop': 2197, 'assure': 2198, 'professional': 2199, \"we've\": 2200, 'nicest': 2201, 'biscuits': 2202, 'cow': 2203, 'driest': 2204, 'tots': 2205, 'acknowledged': 2206, 'margaritas': 2207, 'flower': 2208, 'group': 2209, 'crab': 2210, 'legs': 2211, 'sliced': 2212, 'filling': 2213, 'choose': 2214, 'entrees': 2215, 'tapas': 2216, 'vinegrette': 2217, 'helped': 2218, 'presentation': 2219, 'satisfying': 2220, 'grilled': 2221, 'focused': 2222, 'promise': 2223, 'legit': 2224, 'staying': 2225, 'fail': 2226, 'plate': 2227, 'serving': 2228, 'fly': 2229, 'mid': 2230, 'definately': 2231, 'flavorless': 2232, 'nachos': 2233, 'tribute': 2234, 'fell': 2235, 'services': 2236, 'heat': 2237, 'bathroom': 2238, 'undercooked': 2239, 'door': 2240, 'converter': 2241, 'tied': 2242, 'jiggle': 2243, 'hundred': 2244, 'seperated': 2245, 'mere': 2246, 'ft': 2247, 'excessive': 2248, 'garbled': 2249, 'fooled': 2250, 'clicks': 2251, 'mechanism': 2252, \"motorola's\": 2253, 'followed': 2254, 'directions': 2255, 'kindle': 2256, 'commercials': 2257, 'misleading': 2258, 'couldnt': 2259, 'earphone': 2260, 'breakage': 2261, 'unacceptible': 2262, 'ideal': 2263, 'whose': 2264, 'sensitive': 2265, 'freeway': 2266, 'ac': 2267, 'highy': 2268, 'mins': 2269, '680': 2270, '2mp': 2271, 'pics': 2272, 'arguing': 2273, 'bulky': 2274, 'usable': 2275, 'useful': 2276, 'stream': 2277, 'submerged': 2278, \"microsoft's\": 2279, 'faceplates': 2280, 'drawback': 2281, 'pause': 2282, 'activated': 2283, 'suddenly': 2284, 'ipods': 2285, 'bmw': 2286, 'hearing': 2287, 'wrongly': 2288, 'everyday': 2289, 'intended': 2290, 'runs': 2291, 'greater': 2292, 'buds': 2293, 'waaay': 2294, 'bluetooths': 2295, 'integrated': 2296, 'flush': 2297, 'toilet': 2298, '375': 2299, 'styles': 2300, '350': 2301, 'jabra350': 2302, 'megapixels': 2303, 'renders': 2304, 'images': 2305, 'purcashed': 2306, 'geeky': 2307, 'oozes': 2308, 'embedded': 2309, 'stylish': 2310, 'qwerty': 2311, 'simpler': 2312, 'iam': 2313, 'disapoinment': 2314, 'accompanied': 2315, 'nicely': 2316, 'damage': 2317, 'definitly': 2318, 'majority': 2319, 'peachy': 2320, 'keen': 2321, 'upstairs': 2322, 'basement': 2323, 'reccomendation': 2324, 'relative': 2325, 'items': 2326, 'sudden': 2327, 'linking': 2328, '8530': 2329, 'curve': 2330, 'sketchy': 2331, 'wired': 2332, 'web': 2333, 'browsing': 2334, 'significantly': 2335, 'unlike': 2336, 'colors': 2337, 'communications': 2338, 'communicate': 2339, 'monkeys': 2340, 'dna': 2341, 'copy': 2342, 'bougth': 2343, 'l7c': 2344, 'mode': 2345, 'file': 2346, 'browser': 2347, 'os': 2348, 'crawl': 2349, 'recognizes': 2350, 'bluetoooth': 2351, 'thorn': 2352, 'abhor': 2353, 'disconnected': 2354, 'mail': 2355, 'backlight': 2356, 'message': 2357, 'lately': 2358, 'wit': 2359, 'weight': 2360, 'pleather': 2361, 'deaf': 2362, 'prettier': 2363, 'investment': 2364, 'ticking': 2365, 'noises': 2366, 'electronics': 2367, 'available': 2368, 'fm': 2369, 'transmitters': 2370, 'h500': 2371, 'mega': 2372, 'pixel': 2373, 'good7': 2374, 'transmit': 2375, 'contacting': 2376, 'dollar': 2377, 'learned': 2378, 'lesson': 2379, 'online': 2380, 'earbugs': 2381, 'roam': 2382, 'crack': 2383, 'infatuated': 2384, 'freezes': 2385, 'frequently4': 2386, 'tick': 2387, 'headbands': 2388, 'ericsson': 2389, 'purchases': 2390, 'shine': 2391, 'calendar': 2392, 'sync': 2393, 'defeats': 2394, 'penny': 2395, 'wallet': 2396, 'excrutiatingly': 2397, 'glove': 2398, 'durable': 2399, 'o': 2400, 'factor': 2401, 'petroleum': 2402, 'stereo': 2403, 'absolutel': 2404, 'potentially': 2405, 'reversible': 2406, 'contstruct': 2407, 'hinge': 2408, 'installed': 2409, 'overnite': 2410, 'handset': 2411, 'attacked': 2412, 'protective': 2413, 'destroying': 2414, 'razor': 2415, 'v3i': 2416, 'shouldve': 2417, 'invented': 2418, 'sooner': 2419, 'engineered': 2420, 'complained': 2421, \"headset's\": 2422, '2160': 2423, 'tracfone': 2424, 'instruction': 2425, 'manual': 2426, 'alarm': 2427, 'clock': 2428, 'antena': 2429, 'compared': 2430, 'usage': 2431, 'ngage': 2432, 'earbuds': 2433, 'riingtones': 2434, 'rip': 2435, 'adhesive': 2436, 'concrete': 2437, 'transformed': 2438, 'organizational': 2439, 'capability': 2440, 'vehicle': 2441, 'cradle': 2442, 'jerks': 2443, 'starter': 2444, 'loudspeaker': 2445, 'option': 2446, 'bumpers': 2447, 'lights': 2448, 'improve': 2449, 'leaks': 2450, 'applifies': 2451, 'specially': 2452, 'transmission': 2453, 's11': 2454, 'drivng': 2455, 'reverse': 2456, 'tape': 2457, 'embarassing': 2458, 'protects': 2459, 'operates': 2460, 'soyo': 2461, 'portraits': 2462, 'mentioned': 2463, 'gadgets': 2464, 'magical': 2465, 'comparably': 2466, 'offering': 2467, 'encourage': 2468, 'recieve': 2469, 'cradles': 2470, 'kits': 2471, 'excelent': 2472, 'cingulair': 2473, 'nicer': 2474, 'hoursthe': 2475, 'thereplacement': 2476, '2000': 2477, 'att': 2478, 'yell': 2479, 'iriver': 2480, 'spinn': 2481, 'fond': 2482, 'magnetic': 2483, 'strap': 2484, 'psyched': 2485, 'appointments': 2486, 'sanyo': 2487, 'survived': 2488, 'dozens': 2489, 'blacktop': 2490, 'ill': 2491, 'earphones': 2492, 'cellular': 2493, 'awsome': 2494, 'drained': 2495, 'earpad': 2496, 'displeased': 2497, 'defect': 2498, 'risk': 2499, 'restored': 2500, 'jx': 2501, 'searched': 2502, 'pad': 2503, 'lit': 2504, 'portable': 2505, 'colleague': 2506, 'bed': 2507, 'wi': 2508, 'morning': 2509, 'hat': 2510, 'shipment': 2511, 'surefire': 2512, 'gx2': 2513, 'bt50': 2514, 'buyers': 2515, 'remorse': 2516, 'accessoryone': 2517, 'inexcusable': 2518, 'carriers': 2519, 'tmobile': 2520, 'procedure': 2521, 'motorolas': 2522, 'vx9900': 2523, 'rocketed': 2524, 'destination': 2525, 'unknown': 2526, 'conditions': 2527, 'usefulness': 2528, \"verizon's\": 2529, 'bills': 2530, 'plans': 2531, 'overnight': 2532, 'respect': 2533, 'stuck': 2534, 'max': 2535, 'mute': 2536, 'hybrid': 2537, 'palmtop': 2538, 'excels': 2539, 'bt250v': 2540, 'bose': 2541, 'cancelling': 2542, 'commuter': 2543, 'photo': 2544, 'ad': 2545, 'noted': 2546, 'happens': 2547, 'frog': 2548, 'pushed': 2549, 'aluminum': 2550, 'vx': 2551, 'protected': 2552, 'handheld': 2553, 'tools': 2554, 'sturdiness': 2555, 'source': 2556, 'waterproof': 2557, 'sliding': 2558, 'pants': 2559, 'pockets': 2560, 'shield': 2561, 'incrediable': 2562, 'refuse': 2563, 'activate': 2564, 'gentle': 2565, 'threw': 2566, 'window': 2567, 'inches': 2568, 'counter': 2569, 'cracked': 2570, 'laughing': 2571, 'trunk': 2572, 'carried': 2573, 'hitch': 2574, 'directly': 2575, 'increase': 2576, 'numerous': 2577, 'shifting': 2578, 'bubbling': 2579, 'peeling': 2580, 'scratch': 2581, 'nothingi': 2582, 'droid': 2583, 'exercise': 2584, 'earset': 2585, 'outgoing': 2586, 'package': 2587, 'patient': 2588, 'wirefly': 2589, 'contact': 2590, 'inform': 2591, 'practice': 2592, 'aggravating': 2593, 'virgin': 2594, 'muddy': 2595, 'casing': 2596, \"wire's\": 2597, 'insert': 2598, 'glued': 2599, 'slid': 2600, 'plantronincs': 2601, 'continues': 2602, 'disapointing': 2603, 'fourth': 2604, 'fixes': 2605, 'accessing': 2606, 'downloading': 2607, 'performing': 2608, 'functions': 2609, 'constantly': 2610, 'happening': 2611, 'adapters': 2612, 'procedures': 2613, 're': 2614, 'wiping': 2615, 'strength': 2616, 'louder': 2617, 'navigate': 2618, 'recessed': 2619, 'avoiding': 2620, 'smoking': 2621, 'linked': 2622, 'possesed': 2623, 'research': 2624, 'division': 2625, 'infuriating': 2626, 'walkman': 2627, 'charges': 2628, 'europe': 2629, 'asia': 2630, 'clipping': 2631, 'deffinitely': 2632, \"cent's\": 2633, 'behing': 2634, '5020': 2635, 'comfortible': 2636, '24': 2637, 'pain': 2638, 'arrival': 2639, 'fraction': 2640, 'crappy': 2641, 'e715': 2642, 'seeen': 2643, 'interface': 2644, 'decade': 2645, 'compete': 2646, 'designs': 2647, '700w': 2648, 'steer': 2649, 'replacementr': 2650, 'pens': 2651, 'buyit': 2652, 'beats': 2653, 'fingers': 2654, 'steep': 2655, 'haul': 2656, 'dissapointing': 2657, 'originally': 2658, 'discarded': 2659, 'posted': 2660, 'detailed': 2661, 'grey': 2662, 'existing': 2663, 'cds': 2664, 'currently': 2665, 'shooters': 2666, 'delay': 2667, 'messes': 2668, 'bitpim': 2669, 'transfer': 2670, 'accessory': 2671, 'manufacturer': 2672, 'muffled': 2673, 'incoming': 2674, 'severe': 2675, 'resistant': 2676, 'contacted': 2677, 'receipt': 2678, 'linksys': 2679, 'refurb': 2680, 'snug': 2681, 'heavy': 2682, 'promised': 2683, 'loop': 2684, 'latch': 2685, 'visor': 2686, 'address': 2687, 'reboots': 2688, 'tungsten': 2689, 'e2': 2690, 'flipphones': 2691, 'designed': 2692, 'sins': 2693, 'industrial': 2694, 'tracking': 2695, 'detachable': 2696, 'periodically': 2697, 'upload': 2698, 'locks': 2699, 'screens': 2700, 'randomly': 2701, 'locked': 2702, '325': 2703, 'worn': 2704, 'ringer': 2705, 'acceptable': 2706, 'upbeat': 2707, 'forgeries': 2708, 'abound': 2709, 'ca': 2710, '42': 2711, 'smallest': 2712, 'stays': 2713, 'drains': 2714, 'superfast': 2715, 'ergonomic': 2716, 'theory': 2717, 'clips': 2718, 'distracting': 2719, 'cbr': 2720, 'mp3s': 2721, 'preferably': 2722, 'windows': 2723, 'media': 2724, 'sos': 2725, 'signals': 2726, 'connect': 2727, 'mini': 2728, 'near': 2729, 'startac': 2730, 'regretted': 2731, 'outperform': 2732, 'china': 2733, 'v325i': 2734, 'sim': 2735, '3o': 2736, 'replaced': 2737, '18': 2738, 'recharge': 2739, '4s': 2740, 'connecting': 2741, 'sources': 2742, 'bells': 2743, 'whistles': 2744, 'slide': 2745, 'grip': 2746, 'prevents': 2747, 'slipping': 2748, 'onethis': 2749, 'exclaim': 2750, 'whoa': 2751, 'corded': 2752, 'functional': 2753, 'soft': 2754, 'tight': 2755, 'shape': 2756, 'copier': 2757, 'sent': 2758, 'anywhere': 2759, 'sold': 2760, 'units': 2761, 'krussel': 2762, 'tracfonewebsite': 2763, 'toactivate': 2764, 'texas': 2765, 'dit': 2766, '5320': 2767, 'blueant': 2768, 'supertooth': 2769, 'pcs': 2770, 'sch': 2771, 'r450': 2772, 'slider': 2773, 'premium': 2774, 'plugs': 2775, 'capacity': 2776, 'confortable': 2777, 'periods': 2778, 'ant': 2779, 'hey': 2780, 'pleasantly': 2781, 'suprised': 2782, 'dustpan': 2783, 'indoors': 2784, 'disposable': 2785, 'puff': 2786, 'ride': 2787, 'smoother': 2788, 'nano': 2789, 'dissapointed': 2790, 'reccommend': 2791, 'anti': 2792, 'glare': 2793, 'smartphone': 2794, 'atleast': 2795, 'amp': 2796, 'reoccure': 2797, 'somewhere': 2798, 'creaks': 2799, 'floor': 2800, 'apartment': 2801, 'inconspicuous': 2802, 'slowly': 2803, 'upgrade': 2804, 'securly': 2805, 'possibility': 2806, 'booking': 2807, 'entertainment': 2808, 'communication': 2809, 'activesync': 2810, 'optimal': 2811, 'synchronization': 2812, 'coupon': 2813, 'instance': 2814, 'ps3': 2815, 'cheapy': 2816, 'shouting': 2817, 'shiny': 2818, 'grtting': 2819, '44': 2820, 'exceeds': 2821, 'sight': 2822, 'improper': 2823, 'hoped': 2824, 'v265': 2825, 'pads': 2826, 'stops': 2827, 'intermittently': 2828, 'reaching': 2829, 'keys': 2830, 'nightmare': 2831, 'speakerphone': 2832, 'cassette': 2833, 'cellphones': 2834, 'planning': 2835, \"other's\": 2836, 'products': 2837, 'sensor': 2838, 'reliability': 2839, 'beeping': 2840, 'dieing': 2841, 'ir': 2842, 'cancellation': 2843, 'counterfeit': 2844, 'travled': 2845, 'swivel': 2846, 'sister': 2847, 'dual': 2848, '8125': 2849, 'keeping': 2850, 'bottowm': 2851, 'gimmick': 2852, 'opens': 2853, 'causing': 2854, 'trust': 2855, 'maintains': 2856, 'flawless': 2857, 'devices': 2858, 'holder': 2859, 'land': 2860, 'loops': 2861, 'owning': 2862, 'official': 2863, 'oem': 2864, 'loudest': 2865, 'competitors': 2866, 'saved': 2867, 'alot': 2868, 'unintelligible': 2869, 'restart': 2870, 'bend': 2871, 'leaf': 2872, 'metal': 2873, 'stress': 2874, 'leopard': 2875, 'print': 2876, 'saggy': 2877, 'floppy': 2878, 'looses': 2879, 'snap': 2880, '8525': 2881, 'fliptop': 2882, 'wobbly': 2883, 'eventually': 2884, 'fulfills': 2885, 'requirements': 2886, 'rests': 2887, 'websites': 2888, 'cables': 2889, 'lap': 2890, 'controls': 2891, 'accessable': 2892, 'mine': 2893, 'satisifed': 2894, '2005': 2895, 's710a': 2896, 'specs': 2897, 'armband': 2898, 'allot': 2899, 'clearer': 2900, 'keypads': 2901, 'reach': 2902, 'ericson': 2903, 'z500a': 2904, 'motor': 2905, 'center': 2906, 'voltage': 2907, 'humming': 2908, 'equipment': 2909, 'wake': 2910, 'styling': 2911, 'restocking': 2912, 'fee': 2913, 'darn': 2914, 'sweetest': 2915, 'securely': 2916, 'hook': 2917, 'canal': 2918, 'videos': 2919, 'negatively': 2920, 'adapter': 2921, 'provide': 2922, 'assumed': 2923, 'lense': 2924, 'text': 2925, 'messaging': 2926, 'tricky': 2927, 'lasted': 2928, 'flops': 2929, 'smudged': 2930, 'infra': 2931, 'port': 2932, 'aimless': 2933, 'distressed': 2934, 'drifting': 2935, 'attempting': 2936, 'artiness': 2937, 'existent': 2938, 'gerardo': 2939, 'emptiness': 2940, 'science': 2941, 'teacher': 2942, 'owls': 2943, 'florida': 2944, 'muppets': 2945, 'overdue': 2946, 'screenplay': 2947, 'post': 2948, 'structure': 2949, 'tightly': 2950, 'vitally': 2951, 'occurs': 2952, 'content': 2953, 'superlative': 2954, 'require': 2955, 'puzzle': 2956, 'solving': 2957, 'pulls': 2958, 'punches': 2959, 'th': 2960, 'insane': 2961, 'unlockable': 2962, 'aye': 2963, 'doomed': 2964, 'conception': 2965, 'minor': 2966, 'confirm': 2967, 'exaggerating': 2968, 'trailer': 2969, 'carrell': 2970, 'co': 2971, 'freeman': 2972, 'helms': 2973, 'animals': 2974, 'integration': 2975, 'translate': 2976, 'succeeds': 2977, 'meagre': 2978, 'cancan': 2979, 'boasts': 2980, 'cutest': 2981, 'leading': 2982, 'heels': 2983, 'insipid': 2984, 'efforts': 2985, 'heche': 2986, 'sam': 2987, \"shepard's\": 2988, 'gung': 2989, 'ho': 2990, 'marine': 2991, 'sobering': 2992, 'riveted': 2993, 'resounding': 2994, 'hanks': 2995, 'fingernails': 2996, 'chalkboard': 2997, 'unnecessary': 2998, 'train': 2999, 'roller': 3000, 'coaster': 3001, 'grates': 3002, 'nerves': 3003, 'improved': 3004, 'improvisation': 3005, 'worry': 3006, 'surroundings': 3007, 'crackles': 3008, 'youthful': 3009, 'concentrate': 3010, 'meanders': 3011, 'builders': 3012, 'cross': 3013, 'g': 3014, 'cliche': 3015, 'choices': 3016, 'predict': 3017, 'verbatim': 3018, 'chills': 3019, 'nevsky': 3020, 'whoever': 3021, 'planned': 3022, 'dodge': 3023, 'stratus': 3024, 'makers': 3025, 'restrained': 3026, 'québec': 3027, 'promote': 3028, 'suited': 3029, 'horrendous': 3030, 'retarded': 3031, 'girls': 3032, 'manna': 3033, 'evaluate': 3034, 'veteran': 3035, 'nostalgia': 3036, 'ursula': 3037, \"burton's\": 3038, 'nun': 3039, 'nuns': 3040, 'cotton': 3041, 'unfaithful': 3042, 'gere': 3043, 'dialogs': 3044, 'shallow': 3045, 'insincere': 3046, 'politically': 3047, 'peaking': 3048, 'columbo': 3049, 'neighbour': 3050, 'misplace': 3051, 'weaker': 3052, 'debated': 3053, 'sack': 3054, 'trumpeter': 3055, 'applause': 3056, 'prelude': 3057, 'villain': 3058, 'michael': 3059, 'ironside': 3060, 'rocked': 3061, 'social': 3062, 'physical': 3063, 'outlets': 3064, 'ben': 3065, 'affleck': 3066, 'leaving': 3067, 'knocked': 3068, 'excruciatingly': 3069, 'wedding': 3070, 'agreed': 3071, 'aired': 3072, 'dribble': 3073, 'imdb': 3074, 'mirrormask': 3075, 'inexperience': 3076, 'meant': 3077, 'ineptly': 3078, 'stereotypically': 3079, 'following': 3080, 'schoolers': 3081, 'cry': 3082, 'relate': 3083, 'sharing': 3084, 'confuses': 3085, 'underwater': 3086, 'repeated': 3087, 'thousand': 3088, 'redeemed': 3089, 'mst3k': 3090, 'fodder': 3091, 'anthony': 3092, 'horse': 3093, 'lifeoh': 3094, 'walk': 3095, 'theatre': 3096, 'relief': 3097, 'pillow': 3098, 'tickets': 3099, 'identifies': 3100, 'haggis': 3101, 'handle': 3102, 'strokes': 3103, 'storytelling': 3104, 'painted': 3105, 'crayons': 3106, 'crash': 3107, 'provokes': 3108, 'emotion': 3109, 'teaches': 3110, 'prejudice': 3111, 'empowerment': 3112, 'shut': 3113, 'primal': 3114, 'impulse': 3115, 'preservation': 3116, 'shattered': 3117, \"'film'\": 3118, 'recover': 3119, 'joins': 3120, 'revenge': 3121, 'boogeyman': 3122, 'zombiez': 3123, 'hellish': 3124, 'trinity': 3125, 'distinction': 3126, 'artless': 3127, 'endlessly': 3128, 'ugliest': 3129, 'is\\x85was': 3130, 'merit': 3131, 'akin': 3132, 'atrocity': 3133, 'voyage': 3134, 'discovery': 3135, 'unrecommended': 3136, 'ms': 3137, 'garbo': 3138, 'bat': 3139, 'talents': 3140, 'netflix': 3141, 'stocking': 3142, 'renowned': 3143, 'frances': 3144, 'marion': 3145, 'suffered': 3146, 'heroes': 3147, 'shined': 3148, 'senior': 3149, 'showcasing': 3150, 'punched': 3151, 'gallon': 3152, 'spew': 3153, 'foxx': 3154, 'owns': 3155, 'spacek': 3156, 'coal': 3157, \"miner's\": 3158, 'quaid': 3159, 'balls': 3160, 'himself': 3161, 'legendary': 3162, \"charles'\": 3163, 'biographical': 3164, 'musician': 3165, 'ironically': 3166, 'secondly': 3167, 'perfected': 3168, 'chase': 3169, 'pandering': 3170, 'sabotages': 3171, 'rumbles': 3172, 'desperately': 3173, 'depending': 3174, 'logic': 3175, 'unremarkable': 3176, 'author': 3177, 'abstruse': 3178, 'culture': 3179, 'reenactments': 3180, 'emotionally': 3181, 'adrift': 3182, 'stagy': 3183, 'sits': 3184, 'soldiers': 3185, 'masculinity': 3186, 'pledge': 3187, 'hairsplitting': 3188, 'purity': 3189, 'admiration': 3190, 'swords': 3191, 'kill': 3192, 'momentum': 3193, 'quicker': 3194, 'resume': 3195, 'amateurish': 3196, '80s': 3197, 'fascinated': 3198, 'inconsistencies': 3199, 'horrid': 3200, 'ballet': 3201, 'repertory': 3202, 'developments': 3203, 'woa': 3204, 'sappiest': 3205, 'unwatchable': 3206, 'filmography': 3207, 'site': 3208, 'intentions': 3209, 'undertone': 3210, 'fifties': 3211, 'existential': 3212, 'weariness': 3213, 'ought': 3214, 'regrettably': 3215, 'expression': 3216, 'celebration': 3217, 'patriotism': 3218, 'underlines': 3219, 'allison': 3220, 'concert': 3221, 'sequences': 3222, 'ridiculousness': 3223, 'surface': 3224, 'conceptually': 3225, 'everybody': 3226, 'considered': 3227, 'understood': 3228, 'identified': 3229, 'crime': 3230, 'belmondo': 3231, 'lino': 3232, 'ventura': 3233, 'portrayals': 3234, 'detailing': 3235, 'loyalty': 3236, 'treachery': 3237, 'melville': 3238, 'manages': 3239, 'transcend': 3240, 'limitations': 3241, 'continually': 3242, 'subverting': 3243, 'emerge': 3244, 'intense': 3245, 'crocdodile': 3246, 'believed': 3247, 'crocs': 3248, 'swamp': 3249, 'christopher': 3250, 'eccleston': 3251, 'tardis': 3252, 'continuation': 3253, 'succeeded': 3254, \"here's\": 3255, 'pi': 3256, 'witticisms': 3257, 'bob': 3258, 'rise': 3259, 'finale': 3260, 'kieslowski': 3261, 'amaze': 3262, 'colours': 3263, 'flag': 3264, 'connections': 3265, 'survivors': 3266, 'ferry': 3267, 'valentine': 3268, 'solidifying': 3269, 'happiness': 3270, 'dealt': 3271, \"roth's\": 3272, 'pearls': 3273, 'awarded': 3274, 'eloquently': 3275, 'francis': 3276, 'ford': 3277, 'coppola': 3278, 'gradually': 3279, 'develop': 3280, 'lies': 3281, \"nicola's\": 3282, 'roeg': 3283, 'wih': 3284, 'translating': 3285, 'strives': 3286, 'greatness': 3287, 'muddled': 3288, 'disparate': 3289, 'accurately': 3290, 'defined': 3291, 'tolerate': 3292, 'political': 3293, 'incorrectness': 3294, 'artistic': 3295, 'suspension': 3296, 'slavic': 3297, 'outlandish': 3298, 'psychotic': 3299, 'lovable': 3300, 'enjoyment': 3301, 'repair': 3302, 'bitchy': 3303, 'boss': 3304, 'tear': 3305, 'malta': 3306, 'settings': 3307, 'barren': 3308, 'hockey': 3309, 'defensemen': 3310, 'goalies': 3311, 'diving': 3312, 'net': 3313, 'superficial': 3314, \"'stagey'\": 3315, 'farce': 3316, 'pyromaniac': 3317, 'waylaid': 3318, 'switched': 3319, 'yawn': 3320, 'educational': 3321, 'barney': 3322, 'duper': 3323, 'babie': 3324, 'bop': 3325, 'storm': 3326, 'trooper': 3327, 'potted': 3328, 'plants': 3329, 'shameful': 3330, 'television': 3331, 'writers': 3332, 'smack': 3333, 'bonus': 3334, 'episodes': 3335, 'latched': 3336, 'endearing': 3337, \"family's\": 3338, 'sibling': 3339, 'bond': 3340, 'unneeded': 3341, 'controversy': 3342, 'damian': 3343, 'versatile': 3344, 'cutting': 3345, 'passion': 3346, 'ireland': 3347, 'horrified': 3348, 'sympathetic': 3349, 'movements': 3350, 'shelf': 3351, 'elias': 3352, 'koteas': 3353, 'palance': 3354, 'angelina': 3355, 'naked': 3356, 'cameo': 3357, 'sven': 3358, 'ole': 3359, 'thorsen': 3360, 'ebay': 3361, 'poler': 3362, 'fort': 3363, 'steele': 3364, 'unrealistic': 3365, '70000': 3366, 'bell': 3367, 'higher': 3368, 'sink': 3369, 'slackers': 3370, 'excuses': 3371, 'actions': 3372, 'excerpts': 3373, 'stylized': 3374, 'exemplars': 3375, 'designer': 3376, 'powerful': 3377, 'explorations': 3378, 'nature': 3379, 'politics': 3380, 'rendering': 3381, \"america's\": 3382, 'imperial': 3383, 'faultless': 3384, 'underappreciated': 3385, 'keith': 3386, 'bully': 3387, 'teddy': 3388, 'vivid': 3389, 'sean': 3390, \"connery's\": 3391, 'noble': 3392, 'brigand': 3393, 'candace': 3394, \"bergen's\": 3395, 'feisty': 3396, 'heroine': 3397, 'wily': 3398, 'hay': 3399, \"kanaly's\": 3400, 'spiffy': 3401, 'radiant': 3402, 'lieutenant': 3403, \"roosevelt's\": 3404, 'stick': 3405, 'adventure': 3406, 'ryans': 3407, 'portrayed': 3408, 'schizophrenic': 3409, 'affected': 3410, 'apt': 3411, 'ryan': 3412, 'imitation': 3413, 'individual': 3414, 'fashioned': 3415, 'tuneful': 3416, 'rita': 3417, 'hayworth': 3418, 'pedestal': 3419, 'exploit': 3420, 'financial': 3421, 'gain': 3422, 'linear': 3423, 'narration': 3424, 'flashbacks': 3425, 'articulated': 3426, 'monica': 3427, 'bellucci': 3428, 'commentary': 3429, \"today's\": 3430, 'timers': 3431, 'laughs': 3432, 'northern': 3433, 'community': 3434, 'represents': 3435, 'vivian': 3436, 'schilling': 3437, '95': 3438, 'theatres': 3439, 'screamy': 3440, 'masculine': 3441, 'casted': 3442, 'throwback': 3443, 'student': 3444, \"1980's\": 3445, 'experiences': 3446, 'abroad': 3447, 'interacting': 3448, 'nationalities': 3449, 'slightly': 3450, 'ticker': 3451, 'buildings': 3452, 'locations': 3453, 'hummh': 3454, 'excellentangel': 3455, 'adorablehis': 3456, 'yelps': 3457, 'hes': 3458, 'funniest': 3459, 'curtain': 3460, \"'ive\": 3461, \"before'\": 3462, 'edition': 3463, 'lid': 3464, 'romantic': 3465, 'laughed': 3466, 'chosen': 3467, 'tortured': 3468, 'blatant': 3469, 'propaganda': 3470, 'hatred': 3471, 'admitted': 3472, 'school': 3473, 'admins': 3474, 'thunderbirds': 3475, 'motion': 3476, 'needlessly': 3477, 'repeats': 3478, 'backed': 3479, 'vehicles': 3480, 'flakes': 3481, 'bordered': 3482, 'stupidity': 3483, 'filmmaker': 3484, 'nor': 3485, 'hide': 3486, 'monumental': 3487, 'halfway': 3488, 'embarrassed': 3489, 'howell': 3490, 'bag': 3491, 'professionals': 3492, 'debbie': 3493, 'rochon': 3494, 'chimp': 3495, 'tolerable': 3496, 'oy': 3497, 'vey': 3498, 'simplifying': 3499, 'brevity': 3500, 'fulfilling': 3501, 'amusing': 3502, 'convoluted': 3503, 'convince': 3504, 'questioning': 3505, 'bela': 3506, 'lugosi': 3507, 'extraneous': 3508, 'intoning': 3509, 'decidely': 3510, 'universal': 3511, 'armand': 3512, 'assante': 3513, \"company's\": 3514, 'tying': 3515, 'comprehensible': 3516, 'hang': 3517, 'camp': 3518, 'expecting': 3519, 'iq': 3520, 'mollusk': 3521, 'string': 3522, 'lower': 3523, 'fox': 3524, 'scripts': 3525, 'victor': 3526, 'mclaglen': 3527, 'donlevy': 3528, 'unrecognizable': 3529, 'taylor': 3530, 'president': 3531, 'u': 3532, 'unmoving': 3533, \"taylor's\": 3534, \"stanwyck's\": 3535, 'producer': 3536, 'gifted': 3537, 'cheerless': 3538, 'heist': 3539, 'characterisation': 3540, 'underbite': 3541, 'stoic': 3542, 'emoting': 3543, 'abandoned': 3544, 'factory': 3545, 'executed': 3546, 'flying': 3547, 'judo': 3548, 'la': 3549, 'woo': 3550, 'squibs': 3551, 'america': 3552, 'derivative': 3553, 'hopeless': 3554, 'uneasy': 3555, 'composed': 3556, 'elderly': 3557, 'babbling': 3558, 'overwrought': 3559, 'pseudo': 3560, 'satanic': 3561, 'gibberish': 3562, 'corny': 3563, 'teen': 3564, 'goth': 3565, 'blush': 3566, 'olde': 3567, 'latin': 3568, 'sloppy': 3569, 'underacting': 3570, 'competent': 3571, 'jerry': 3572, 'falwell': 3573, 'starring': 3574, 'jaclyn': 3575, 'smith': 3576, 'lifetime': 3577, 'sells': 3578, 'assaulted': 3579, 'strident': 3580, 'cords': 3581, 'blare': 3582, 'pap': 3583, 'screened': 3584, 'punish': 3585, 'unemployed': 3586, 'understatement': 3587, 'universe': 3588, 'team': 3589, 'trond': 3590, 'fausa': 3591, 'aurvåg': 3592, 'bothersome': 3593, 'comment': 3594, '2006': 3595, 'move': 3596, 'initially': 3597, 'local': 3598, 'sites': 3599, 'buffalo': 3600, 'intrigued': 3601, 'applauded': 3602, 'lilt': 3603, 'duris': 3604, 'views': 3605, 'barcelona': 3606, 'famed': 3607, 'gaudi': 3608, 'towers': 3609, 'despised': 3610, 'rough': 3611, 'draft': 3612, 'shooting': 3613, 'completed': 3614, 'personalities': 3615, 'twists': 3616, 'occur': 3617, 'irritating': 3618, 'indescribably': 3619, 'idiotic': 3620, 'idiot': 3621, 'cheesiness': 3622, 'unethical': 3623, 'nc': 3624, 'zillion': 3625, 'washing': 3626, 'twirling': 3627, '20th': 3628, \"fox's\": 3629, 'road': 3630, '1948': 3631, 'silly': 3632, 'unmitigated': 3633, 'blandly': 3634, 'edward': 3635, 'chodorov': 3636, 'negulesco': 3637, 'widmark': 3638, 'unintentionally': 3639, 'comical': 3640, 'marbles': 3641, 'marred': 3642, 'constant': 3643, 'exteriors': 3644, 'prompted': 3645, 'aged': 3646, 'upper': 3647, 'uptight': 3648, 'mistakes': 3649, 'jokes': 3650, 'offend': 3651, 'littered': 3652, 'overt': 3653, 'slurs': 3654, 'members': 3655, 'whites': 3656, 'depicted': 3657, 'morons': 3658, 'boobs': 3659, 'lets': 3660, 'destroy': 3661, \"latifa's\": 3662, 'wouldnt': 3663, 'steamboat': 3664, 'willie': 3665, 'amazingly': 3666, 'tons': 3667, 'granted': 3668, '1928': 3669, 'timeless': 3670, 'straw': 3671, \"mickey's\": 3672, '80': 3673, 'bipolarity': 3674, 'thug': 3675, 'awards': 3676, 'accolades': 3677, 'body': 3678, 'garfield': 3679, 'ann': 3680, 'revere': 3681, 'lilli': 3682, 'plmer': 3683, 'william': 3684, 'conrad': 3685, 'lee': 3686, 'cinematographers': 3687, 'wong': 3688, 'howe': 3689, 'qualities': 3690, 'thomerson': 3691, '1986': 3692, 'problems\\x97the': 3693, 'professor': 3694, 'established': 3695, 'students': 3696, 'necklace': 3697, 'containing': 3698, 'meteorite': 3699, 'matthews': 3700, 'wrote': 3701, '1995': 3702, 'grim': 3703, 'aspects': 3704, 'gore': 3705, 'convention': 3706, 'cg': 3707, 'microsoft': 3708, 'slideshow': 3709, \"god's\": 3710, 'explosion': 3711, 'tanks': 3712, 'okay': 3713, 'critic': 3714, \"credit's\": 3715, 'creature': 3716, 'gotta': 3717, 'slimy': 3718, 'drooling': 3719, 'teeth': 3720, 'breeders': 3721, 'ebola': 3722, 'virus': 3723, 'comedic': 3724, 'timing': 3725, 'debits': 3726, 'popcorn': 3727, 'borders': 3728, 'lewis': 3729, \"black's\": 3730, 'considerable': 3731, 'incendiary': 3732, 'unrestrained': 3733, 'sole': 3734, 'bright': 3735, 'originality': 3736, 'freshness': 3737, 'offer': 3738, 'evidently': 3739, 'reflected': 3740, 'borrowed': 3741, 'filmiing': 3742, 'expansive': 3743, 'convey': 3744, 'broad': 3745, 'sweep': 3746, 'landscapes': 3747, 'trashy': 3748, 'precisely': 3749, 'proudly': 3750, 'classical': 3751, 'wb': 3752, 'toons': 3753, 'delivered': 3754, 'underrated': 3755, 'murky': 3756, 'related': 3757, 'peculiarity': 3758, 'excessively': 3759, 'phony': 3760, 'contrived': 3761, 'um': 3762, 'perabo': 3763, 'foolish': 3764, 'accents': 3765, 'hypocrisy': 3766, 'rubbish': 3767, 'researched': 3768, 'pitch': 3769, 'omit': 3770, 'instant': 3771, 'catchy': 3772, 'credits': 3773, 'simmering': 3774, 'boiling': 3775, 'warts': 3776, \"poet's\": 3777, 'bohemian': 3778, 'wartime': 3779, 'bombardments': 3780, 'london': 3781, 'outward': 3782, 'tranquillity': 3783, 'welsh': 3784, 'coastal': 3785, 'retreat': 3786, 'borderlines': 3787, 'friendship': 3788, 'lust': 3789, 'concerns': 3790, 'jealousy': 3791, 'rivalry': 3792, 'cowardice': 3793, 'egotism': 3794, 'heroism': 3795, 'sacrifice': 3796, 'suggests': 3797, 'tensions': 3798, 'inventive': 3799, 'pointillistic': 3800, 'behold': 3801, 'continuously': 3802, 'bertolucci': 3803, 'sidelined': 3804, 'inexplicable': 3805, 'crew': 3806, 'regardless': 3807, 'custer': 3808, 'alongside': 3809, 'olivia': 3810, 'havilland': 3811, 'dads': 3812, 'grew': 3813, 'realised': 3814, 'jim': 3815, \"o'connor\": 3816, 'energetic': 3817, 'george': 3818, 'hosting': 3819, 'overs': 3820, 'monotonous': 3821, 'shenanigans': 3822, 'spy': 3823, 'kidnapped': 3824, 'foreign': 3825, 'random': 3826, 'taxidermists': 3827, 'stewart': 3828, 'hero': 3829, 'rips': 3830, 'climax': 3831, 'embassy': 3832, 'brooding': 3833, 'menace': 3834, \"hitchcock's\": 3835, 'nevertheless': 3836, 'stable': 3837, \"fi's\": 3838, 'producers': 3839, 'scot': 3840, 'vandiver': 3841, 'nonetheless': 3842, 'campy': 3843, 'bendingly': 3844, 'scares': 3845, 'medical': 3846, 'terminology': 3847, 'iffy': 3848, 'insulin': 3849, 'dependant': 3850, 'diabetic': 3851, 'complexity': 3852, 'task': 3853, 'challenges': 3854, 'facing': 3855, 'attempted': 3856, 'truth': 3857, 'reconciliation': 3858, 'magnificent': 3859, 'woven': 3860, 'splendid': 3861, 'view': 3862, 'subtitles': 3863, 'aversion': 3864, 'therapy': 3865, \"'must'\": 3866, 'sphere': 3867, 'helen': 3868, 'baxendale': 3869, 'credible': 3870, 'cheerfull': 3871, 'naughty': 3872, 'deadly': 3873, 'shakespears': 3874, 'lyrics': 3875, 'dr': 3876, 'seuss': 3877, 'brilliantly': 3878, 'animated': 3879, \"upa's\": 3880, 'finest': 3881, 'academy': 3882, 'award': 3883, 'integral': 3884, 'helping': 3885, \"bailey's\": 3886, 'eiko': 3887, 'ishioka': 3888, \"coppola's\": 3889, 'dracula': 3890, 'baaaaaad': 3891, 'collect': 3892, 'extant': 3893, \"austen's\": 3894, 'consolations': 3895, \"anne's\": 3896, 'speaking': 3897, 'unbearably': 3898, 'predictably': 3899, 'kitchy': 3900, 'raw': 3901, 'sublimely': 3902, \"everyone's\": 3903, 'terror': 3904, 'lie': 3905, 'escalating': 3906, 'monstrous': 3907, 'consequences': 3908, 'mesmerising': 3909, \"else's\": 3910, 'fumbling': 3911, 'hankies': 3912, 'faces': 3913, 'males': 3914, 'females': 3915, 'alike': 3916, 'julian': 3917, 'fellowes': 3918, 'triumphed': 3919, 'national': 3920, 'treasure': 3921, 'phrase': 3922, 'owed': 3923, 'kris': 3924, 'kristoffersen': 3925, 'marriage': 3926, 'errors': 3927, 'commented': 3928, 'cars': 3929, 'garage': 3930, 'facial': 3931, 'configuration': 3932, 'inspiration': 3933, 'overcome': 3934, 'rejection': 3935, 'punishment': 3936, 'park': 3937, 'southern': 3938, 'california': 3939, 'desert': 3940, 'patent': 3941, 'accessible': 3942, 'miserable': 3943, \"'so\": 3944, \"laughable'\": 3945, 'angela': 3946, 'bennett': 3947, 'pretext': 3948, 'repeating': 3949, 'robotic': 3950, 'moves': 3951, 'delete': 3952, 'uncalled': 3953, 'geek': 3954, 'bible': 3955, 'thumper': 3956, 'pulling': 3957, 'equivalent': 3958, \"dickens'\": 3959, 'carol': 3960, 'sensibility': 3961, 'success': 3962, 'depends': 3963, 'sydney': 3964, 'greenstreet': 3965, 'yardley': 3966, 'pleasing': 3967, 'rpg': 3968, 'respecting': 3969, 'rpger': 3970, 'youtube': 3971, 'lassie': 3972, 'painfully': 3973, 'dreary': 3974, 'waster': 3975, 'becomes': 3976, 'forgettable': 3977, 'shell': 3978, 'barking': 3979, 'transfers': 3980, 'relaxing': 3981, 'title': 3982, 'handles': 3983, 'dignity': 3984, 'shocking': 3985, 'memorized': 3986, 'fishnet': 3987, 'stockings': 3988, 'astonishingly': 3989, 'ham': 3990, 'fisted': 3991, 'irons': 3992, 'watson': 3993, 'unconditional': 3994, \"wilkinson's\": 3995, 'ordeal': 3996, 'progresses': 3997, \"character's\": 3998, 'anguish': 3999, \"watson's\": 4000, 'pans': 4001, 'reviewers': 4002, 'interview': 4003, 'vampire': 4004, 'lestat': 4005, \"cruise's\": 4006, 'aailiyah': 4007, 'akasha': 4008, \"rice's\": 4009, 'sensitivities': 4010, 'treatments': 4011, 'details': 4012, 'dysfunction': 4013, 'football': 4014, 'perplexing': 4015, 'skilled': 4016, 'meredith': 4017, 'm': 4018, 'maker': 4019, 'worthy': 4020, 'syrupy': 4021, 'nine': 4022, 'goremeister': 4023, 'lucio': 4024, 'thrillers': 4025, \"70's\": 4026, 'standout': 4027, 'unpleasant': 4028, 'technically': 4029, 'riz': 4030, 'ortolani': 4031, 'recurring': 4032, 'unaccompanied': 4033, 'vocal': 4034, 'distant': 4035, 'dustin': 4036, \"hoffman's\": 4037, 'involving': 4038, 'issue': 4039, 'tired': 4040, 'ps': 4041, 'jennifer': 4042, 'rubin': 4043, 'harris': 4044, 'changes': 4045, 'nervous': 4046, 'starlet': 4047, 'coach': 4048, 'snow': 4049, 'ultra': 4050, 'exciting': 4051, 'uniqueness': 4052, 'foreigner': 4053, '1973': 4054, 'stranger': 4055, 'astronaut': 4056, 'considers': 4057, \"astronaut's\": 4058, 'ussr': 4059, 'scream': 4060, 'scare': 4061, 'indictment': 4062, 'justice': 4063, 'system': 4064, 'fundamental': 4065, 'legal': 4066, 'guilt': 4067, 'innocence': 4068, 'routine': 4069, 'constantine': 4070, 'intensity': 4071, 'motivations': 4072, 'inspiring': 4073, 'stinker': 4074, 'direct': 4075, 'release': 4076, 'trek': 4077, 'v': 4078, 'frontier': 4079, 'includes': 4080, 'shatner': 4081, 'nimoy': 4082, 'washed': 4083, 'tacky': 4084, 'spock': 4085, 'rescue': 4086, 'kirk': 4087, 'jet': 4088, 'mountain': 4089, 'humor': 4090, \"dosen't\": 4091, 'involves': 4092, 'vulcan': 4093, 'stealing': 4094, 'enterprise': 4095, 'uhura': 4096, 'distract': 4097, 'guards': 4098, 'subjects': 4099, 'jay': 4100, \"adams'\": 4101, 'unfortunate': 4102, 'subject': 4103, 'evokes': 4104, '70s': 4105, 'grainy': 4106, 'enhanced': 4107, 'surprises': 4108, 'achille': 4109, 'philippa': 4110, 'sing': 4111, 'don': 4112, 'giovanni': 4113, 'describes': 4114, 'layers': 4115, '18th': 4116, 'jutland': 4117, 'instruments': 4118, 'general': 4119, \"loewenhielm's\": 4120, 'partaking': 4121, 'cailles': 4122, 'en': 4123, 'sarcophage': 4124, 'savor': 4125, 'impression': 4126, 'generates': 4127, 'austere': 4128, 'backdrop': 4129, 'wanting': 4130, 'notch': 4131, 'fleshed': 4132, 'grimes': 4133, 'blake': 4134, 'scripted': 4135, 'deadpan': 4136, 'angus': 4137, 'scrimm': 4138, 'brief': 4139, 'gently': 4140, 'menacing': 4141, 'violin': 4142, 'anatomist': 4143, 'entertained': 4144, 'phantasm': 4145, '1949': 4146, 'collective': 4147, 'concerning': 4148, 'kudos': 4149, \"movie's\": 4150, 'juano': 4151, 'hernandez': 4152, 'accused': 4153, 'murdering': 4154, 'trumbull': 4155, 'huston': 4156, 'evinced': 4157, 'faithful': 4158, \"joyce's\": 4159, 'acclaimed': 4160, 'novella': 4161, 'feelings': 4162, \"gabriel's\": 4163, 'intangibles': 4164, 'leap': 4165, \"viewer's\": 4166, 'grasp': 4167, 'wondered': 4168, 'shortlist': 4169, 'emperor': 4170, 'surely': 4171, 'coherent': 4172, 'force': 4173, 'obliged': 4174, 'creative': 4175, 'subplots': 4176, 'native': 4177, 'brainsucking': 4178, 'telly': 4179, 'savalas': 4180, 'boyle': 4181, '54': 4182, 'sheer': 4183, 'tedium': 4184, 'melodrama': 4185, 'sinking': 4186, 'decisions': 4187, 'establish': 4188, 'follows': 4189, 'band': 4190, 'latter': 4191, 'mansonites': 4192, 'reporter': 4193, \"who's\": 4194, 'anniversary': 4195, 'killings': 4196, 'indication': 4197, 'meld': 4198, 'volatile': 4199, 'temperaments': 4200, 'seamless': 4201, 'union': 4202, 'creativity': 4203, 'powerhouse': 4204, \"culture's\": 4205, 'fascination': 4206, 'celebrity': 4207, 'interpretations': 4208, 'fame': 4209, 'forgotten': 4210, 'kevin': 4211, 'spacey': 4212, 'verbal': 4213, 'tsunami': 4214, 'buddy': 4215, 'ackerman': 4216, 'scripting': 4217, 'unmatched': 4218, 'ages': 4219, 'younger': 4220, 'galley': 4221, 'pm': 4222, '8pm': 4223, '15pm': 4224, 'forwarded': 4225, 'horrendously': 4226, 'captain': 4227, 'howdy': 4228, 'semi': 4229, 'truck': 4230, 'linda': 4231, 'cardellini': 4232, \"she's\": 4233, 'poised': 4234, 'dee': 4235, 'snider': 4236, 'sophisticated': 4237, 'miserably': 4238, 'unoriginal': 4239, 'cinematic': 4240, 'captured': 4241, 'celluloid': 4242, 'supernatural': 4243, 'thread': 4244, 'leni': 4245, 'parker': 4246, 'anita': 4247, 'laselva': 4248, 'taelons': 4249, 'idealogical': 4250, 'centers': 4251, 'puppet': 4252, \"80's\": 4253, 'flicks': 4254, 'explains': 4255, 'sinister': 4256, 'origins': 4257, 'f': 4258, 'x': 4259, 'insomniacs': 4260, 'heartwarming': 4261, 'chasing': 4262, 'nurse': 4263, 'unpredictability': 4264, 'labute': 4265, 'brutal': 4266, 'violence': 4267, 'seperate': 4268, 'secondary': 4269, 'incomprehensible': 4270, 'relation': 4271, 'primary': 4272, 'mystifying': 4273, 'shelves': 4274, 'warn': 4275, 'dumbest': 4276, 'hbo': 4277, 'cox': 4278, 'win': 4279, 'agree': 4280, 'jessica': 4281, 'dimensional': 4282, 'elaborately': 4283, 'aesthetically': 4284, 'sculpture': 4285, 'soap': 4286, 'operas': 4287, \"pray's\": 4288, 'charismatic': 4289, 'paolo': 4290, 'sorrentino': 4291, 'tony': 4292, 'unforgettable': 4293, \"'titta\": 4294, 'di': 4295, \"girolamo'\": 4296, 'vision': 4297, \"estevez's\": 4298, 'debut': 4299, 'estevez': 4300, 'charlie': 4301, 'kathy': 4302, 'bates': 4303, 'desperation': 4304, 'escapism': 4305, 'variation': 4306, 'fields': 4307, 'condescends': 4308, 'arts': 4309, 'daughters': 4310, 'paint': 4311, 'photograph': 4312, 'poignant': 4313, 'alert': 4314, 'decipher': 4315, 'meanings': 4316, 'matrix': 4317, 'mindblowing': 4318, 'dream': 4319, 'rickman': 4320, 'stowe': 4321, 'hilt': 4322, \"childrens'\": 4323, 'subversive': 4324, 'tract': 4325, 'gloriously': 4326, 'accurate': 4327, 'raver': 4328, 'idyllic': 4329, 'downs': 4330, 'groove': 4331, 'antithesis': 4332, 'traffic': 4333, \"crowe's\": 4334, 'picked': 4335, 'government': 4336, 'scientist': 4337, 'argued': 4338, 'humanity': 4339, 'dwight': 4340, 'schultz': 4341, 'sincere': 4342, 'critical': 4343, 'gorman': 4344, 'bechard': 4345, 'homework': 4346, 'appropriate': 4347, 'captures': 4348, 'essence': 4349, 'track': 4350, 'commands': 4351, 'contributing': 4352, 'seeing\\x85': 4353, 'threshold': 4354, 'hayao': 4355, 'eighth': 4356, 'ghibili': 4357, 'gake': 4358, 'ue': 4359, 'ponyo': 4360, 'dominated': 4361, 'disney': 4362, \"pixar's\": 4363, 'cgi': 4364, 'comforting': 4365, 'miyazaki': 4366, 'relying': 4367, 'drawn': 4368, 'enchanting': 4369, 'remarkable': 4370, 'crayon': 4371, 'pencil': 4372, 'drawings': 4373, 'colorful': 4374, 'fanciful': 4375, 'drift': 4376, 'surf': 4377, '1998': 4378, 'choked': 4379, \"you've\": 4380, 'vessel': 4381, 'taken': 4382, 'mighty': 4383, 'frost': 4384, 'bonuses': 4385, 'fest': 4386, 'spoiled': 4387, 'brat': 4388, 'babysitting': 4389, 'sundays': 4390, 'judith': 4391, 'cutie': 4392, 'confidence': 4393, 'riot': 4394, 'hugo': 4395, 'weaving': 4396, 'obsessed': 4397, 'gay': 4398, 'estate': 4399, 'salesman': 4400, \"clients'\": 4401, 'houses': 4402, 'trysts': 4403, 'flaming': 4404, 'darren': 4405, 'flowed': 4406, 'bonding': 4407, 'hoot': 4408, 'n': 4409, 'jessice': 4410, 'clothes': 4411, 'virtue': 4412, 'regrettable': 4413, 'exceptionally': 4414, \"one's\": 4415, 'bank': 4416, 'holiday': 4417, 'rick': 4418, 'honeslty': 4419, 'ahead': 4420, 'warmer': 4421, 'wayyy': 4422, 'cape': 4423, 'cod': 4424, 'ravoli': 4425, 'cranberry': 4426, 'disgusted': 4427, 'shocked': 4428, 'indicate': 4429, 'cash': 4430, 'burrittos': 4431, 'interior': 4432, 'velvet': 4433, 'cake': 4434, 'ohhh': 4435, 'hole': 4436, 'luke': 4437, 'sever': 4438, 'combos': 4439, '23': 4440, 'blow': 4441, 'accident': 4442, 'grab': 4443, 'pub': 4444, 'hiro': 4445, 'melted': 4446, 'styrofoam': 4447, 'pucks': 4448, 'disgust': 4449, 'register': 4450, 'rib': 4451, 'section': 4452, 'firehouse': 4453, 'pink': 4454, 'chow': 4455, 'mein': 4456, 'lined': 4457, 'strings': 4458, 'banana': 4459, 'petrified': 4460, 'receives': 4461, 'cocktails': 4462, 'handmade': 4463, 'military': 4464, 'dos': 4465, 'gringos': 4466, 'tastings': 4467, 'jeff': 4468, 'milkshake': 4469, 'chocolate': 4470, 'milk': 4471, 'excalibur': 4472, 'common': 4473, 'cheated': 4474, 'experiencing': 4475, 'parties': 4476, 'smelled': 4477, 'pan': 4478, 'cakes': 4479, 'raving': 4480, 'tailored': 4481, 'palate': 4482, 'ratio': 4483, 'tenders': 4484, 'unsatisfying': 4485, 'omelets': 4486, 'sexy': 4487, 'outrageously': 4488, 'flirting': 4489, 'hottest': 4490, 'rock': 4491, 'casino': 4492, 'forward': 4493, 'bone': 4494, 'bloddy': 4495, \"mary's\": 4496, 'mussels': 4497, 'reduction': 4498, 'buffets': 4499, 'tigerlilly': 4500, 'personable': 4501, 'sooooo': 4502, 'yama': 4503, '40min': 4504, 'arriving': 4505, 'actual': 4506, 'blandest': 4507, 'cuisine': 4508, 'worries': 4509, 'loving': 4510, 'venture': 4511, 'host': 4512, 'bitches': 4513, 'liking': 4514, 'reviewing': 4515, 'venturing': 4516, 'penne': 4517, 'vodka': 4518, 'meatloaf': 4519, 'lox': 4520, 'capers': 4521, 'meet': 4522, 'weekend': 4523, 'suggestions': 4524, 'bamboo': 4525, 'shoots': 4526, 'blanket': 4527, 'moz': 4528, 'subpar': 4529, 'ignore': 4530, 'fiancé': 4531, 'mandalay': 4532, 'forty': 4533, 'vain': 4534, 'crostini': 4535, 'nigiri': 4536, 'flavored': 4537, 'voodoo': 4538, 'gluten': 4539, 'leftover': 4540, 'relocated': 4541, 'diverse': 4542, 'hella': 4543, 'salty': 4544, 'spinach': 4545, 'avocado': 4546, 'ingredients': 4547, 'handed': 4548, 'listed': 4549, 'waitresses': 4550, 'lordy': 4551, 'khao': 4552, 'soi': 4553, 'accommodations': 4554, 'inspired': 4555, 'desired': 4556, 'maintaining': 4557, 'coziness': 4558, 'weekly': 4559, 'haunt': 4560, 'asking': 4561, 'verge': 4562, 'dressed': 4563, 'rudely': 4564, 'hits': 4565, 'quantity': 4566, 'lemon': 4567, 'raspberry': 4568, 'cocktail': 4569, 'imagined': 4570, 'crepe': 4571, 'bits': 4572, 'missing': 4573, \"joey's\": 4574, 'voted': 4575, 'magazine': 4576, 'fridays': 4577, 'blows': 4578, 'exceeding': 4579, 'dreamed': 4580, 'serivce': 4581, 'inviting': 4582, '1979': 4583, 'foot': 4584, 'mixed': 4585, 'mushrooms': 4586, 'yukon': 4587, 'beateous': 4588, 'climbing': 4589, 'tartar': 4590, 'jamaican': 4591, 'mojitos': 4592, 'rich': 4593, 'accordingly': 4594, 'rinse': 4595, 'nude': 4596, 'bussell': 4597, 'sprouts': 4598, 'risotto': 4599, 'bodes': 4600, 'wrapped': 4601, 'dates': 4602, 'otto': 4603, 'welcome': 4604, 'mains': 4605, 'uninspired': 4606, \"world's\": 4607, 'drunk': 4608, 'patty': 4609, 'sporting': 4610, 'walls': 4611, \"tv's\": 4612, \"they'd\": 4613, 'descriptions': 4614, 'eel': 4615, 'sauces': 4616, 'hardest': 4617, \"m's\": 4618, 'rolled': 4619, 'providing': 4620, 'flavourful': 4621, 'freezing': 4622, 'ayce': 4623, 'mood': 4624, 'gratitude': 4625, \"owner's\": 4626, 'privileged': 4627, 'silently': 4628, 'peanut': 4629, 'godfathers': 4630, 'recall': 4631, 'visited': 4632, 'proclaimed': 4633, 'wildly': 4634, 'veggitarian': 4635, 'platter': 4636, 'madison': 4637, 'ironman': 4638, 'chefs': 4639, 'dedicated': 4640, 'spots': 4641, 'jenni': 4642, 'goat': 4643, 'skimp': 4644, 'mac': 4645, 'burned': 4646, 'saganaki': 4647, 'disagree': 4648, 'fellow': 4649, 'yelpers': 4650, 'noodles': 4651, 'chip': 4652, 'count': 4653, 'greedy': 4654, 'corporation': 4655, 'dime': 4656, 'outdoor': 4657, 'muffin': 4658, 'untoasted': 4659, 'bus': 4660, 'figured': 4661, 'publicly': 4662, 'loudly': 4663, 'bbq': 4664, 'lighter': 4665, 'downside': 4666, 'shawarrrrrrma': 4667, 'eyed': 4668, 'peas': 4669, 'unreal': 4670, 'vinaigrette': 4671, '00': 4672, 'honor': 4673, 'hut': 4674, 'coupons': 4675, 'unbelievably': 4676, 'covers': 4677, 'replenished': 4678, 'yucky': 4679, 'delicioso': 4680, 'spaghetti': 4681, 'tucson': 4682, 'chipotle': 4683, 'succulent': 4684, 'baseball': 4685, 'app': 4686, 'genuinely': 4687, 'enthusiastic': 4688, 'sadly': 4689, 'gordon': 4690, \"ramsey's\": 4691, 'shall': 4692, 'offered': 4693, 'handling': 4694, 'rowdy': 4695, 'despicable': 4696, 'craving': 4697, 'ache': 4698, 'elegantly': 4699, 'customize': 4700, 'eggplant': 4701, 'bean': 4702, 'outta': 4703, 'inconsiderate': 4704, 'hi': 4705, 'dinners': 4706, 'outshining': 4707, 'halibut': 4708, 'starving': 4709, 'def': 4710, 'ethic': 4711, 'andddd': 4712, 'located': 4713, 'crystals': 4714, 'shopping': 4715, 'aria': 4716, 'summarize': 4717, 'nay': 4718, 'transcendant': 4719, 'pneumatic': 4720, 'condiment': 4721, 'dispenser': 4722, 'ians': 4723, 'kiddos': 4724, 'bouchon': 4725, 'accountant': 4726, 'screwed': 4727, 'reminds': 4728, 'shops': 4729, 'san': 4730, 'francisco': 4731, 'buldogis': 4732, 'gourmet': 4733, 'frustrated': 4734, 'petty': 4735, 'iced': 4736, 'hungry': 4737, 'companions': 4738, 'smeared': 4739, 'tracked': 4740, 'bird': 4741, 'poop': 4742, 'furthermore': 4743, 'operation': 4744, 'connisseur': 4745, 'topic': 4746, 'jerk': 4747, 'strike': 4748, 'rushed': 4749, 'across': 4750, 'appetizer': 4751, 'absolutley': 4752, '5lb': 4753, '4ths': 4754, 'gristle': 4755, 'steiners': 4756, 'fs': 4757, 'pears': 4758, 'almonds': 4759, 'spicier': 4760, 'prefer': 4761, 'ribeye': 4762, 'mesquite': 4763, 'gooodd': 4764, 'connoisseur': 4765, 'mouthful': 4766, 'relaxed': 4767, 'venue': 4768, 'couples': 4769, 'groups': 4770, 'nargile': 4771, 'tater': 4772, 'southwest': 4773, 'vanilla': 4774, 'smooth': 4775, 'profiterole': 4776, 'pastry': 4777, 'az': 4778, \"carly's\": 4779, 'ventilation': 4780, 'upgrading': 4781, 'letdown': 4782, 'camelback': 4783, 'shop': 4784, 'cartel': 4785, 'trimmed': 4786, '70': 4787, 'claimed': 4788, 'jewel': 4789, 'las': 4790, 'boiled': 4791, 'toro': 4792, 'tartare': 4793, 'cavier': 4794, 'thinly': 4795, 'wagyu': 4796, 'truffle': 4797, 'attached': 4798, 'decide': 4799, 'humiliated': 4800, 'worker': 4801, 'name': 4802, 'callings': 4803, 'daily': 4804, 'specials': 4805, 'tragedy': 4806, 'pancake': 4807, 'crawfish': 4808, \"mom's\": 4809, 'multi': 4810, 'grain': 4811, 'pumpkin': 4812, 'pecan': 4813, 'fluffy': 4814, 'airline': 4815, 'noca': 4816, 'gyro': 4817, 'lettuce': 4818, 'pastas': 4819, 'cheesecurds': 4820, 'finger': 4821, 'beauty': 4822, 'greasy': 4823, 'unhealthy': 4824, 'similarly': 4825, 'apology': 4826, 'tiramisu': 4827, 'cannoli': 4828, 'sun': 4829, 'meats': 4830, 'frenchman': 4831, 'martini': 4832, 'gc': 4833, 'thirty': 4834, 'yellowtail': 4835, 'carpaccio': 4836, 'strangers': 4837, 'hello': 4838, 'donut': 4839, 'saving': 4840, 'disgraceful': 4841, 'suffers': 4842, 'greens': 4843, 'hankering': 4844, 'theft': 4845, 'eew': 4846, 'overhaul': 4847, 'witnessed': 4848, 'regularly': 4849, 'swung': 4850, 'efficient': 4851, 'sucker': 4852, 'olives': 4853, 'perpared': 4854, 'giant': 4855, 'slices': 4856, 'dusted': 4857, 'powdered': 4858, 'sugar': 4859, 'fo': 4860, 'accomodate': 4861, 'vegan': 4862, 'veggie': 4863, 'crumby': 4864, 'pale': 4865, 'croutons': 4866, \"it'll\": 4867, 'trips': 4868, 'crema': 4869, 'café': 4870, 'expanded': 4871, 'philadelphia': 4872, 'north': 4873, 'scottsdale': 4874, 'soooooo': 4875, 'freaking': 4876, 'papers': 4877, 'reheated': 4878, 'wedges': 4879, 'absolute': 4880, 'bloody': 4881, 'mary': 4882, 'businesses': 4883, 'yellow': 4884, 'saffron': 4885, 'seasoning': 4886, 'grandmother': 4887, 'ignored': 4888, 'hostess': 4889, 'boys': 4890, 'shirt': 4891, 'drastically': 4892, 'caesar': 4893, 'madhouse': 4894, 'proven': 4895, 'moods': 4896, 'macarons': 4897, 'insanely': 4898, 'informative': 4899, 'plater': 4900, 'relax': 4901, 'screams': 4902, \"somethat's\": 4903, 'duo': 4904, 'violinists': 4905, 'requested': 4906, 'baklava': 4907, 'falafels': 4908, 'baba': 4909, 'ganoush': 4910, 'mgm': 4911, 'courteous': 4912, 'eclectic': 4913, 'onion': 4914, 'rings': 4915, 'nobu': 4916, 'google': 4917, 'smashburger': 4918, 'lover': 4919, 'plantains': 4920, 'spends': 4921, 'panna': 4922, 'cotta': 4923, 'flavors': 4924, 'slaw': 4925, 'drenched': 4926, 'piano': 4927, 'rge': 4928, 'fillet': 4929, 'relleno': 4930, 'sergeant': 4931, 'auju': 4932, 'hawaiian': 4933, 'breeze': 4934, 'mango': 4935, 'magic': 4936, 'pineapple': 4937, 'smoothies': 4938, 'mortified': 4939, 'anyways': 4940, 'dripping': 4941, '2007': 4942, 'hospitality': 4943, 'paradise': 4944, 'refrained': 4945, 'recommending': 4946, 'cibo': 4947, 'mouths': 4948, 'bellies': 4949, 'dough': 4950, 'tonight': 4951, 'elk': 4952, 'hooked': 4953, 'classics': 4954, 'sorely': 4955, 'quaint': 4956, 'deliciously': 4957, 'dylan': 4958, 'tummy': 4959, 'gratuity': 4960, 'larger': 4961, 'apple': 4962, 'han': 4963, 'nan': 4964, \"ryan's\": 4965, 'edinburgh': 4966, 'revisiting': 4967, 'naan': 4968, 'pine': 4969, 'touched': 4970, 'airport': 4971, 'speedy': 4972, 'calligraphy': 4973, 'stood': 4974, 'guest': 4975, 'extensive': 4976, 'inflate': 4977, 'smaller': 4978, 'grow': 4979, 'rapidly': 4980, 'lil': 4981, 'fuzzy': 4982, 'wontons': 4983, 'spice': 4984, 'whelm': 4985, '30s': 4986, 'arepas': 4987, 'jalapeno': 4988, 'shoe': 4989, 'block': 4990, 'fancy': 4991, 'affordable': 4992, 'soups': 4993, 'sunday': 4994, 'hunan': 4995, 'flair': 4996, 'bartenders': 4997, 'nutshell': 4998, 'restaraunt': 4999, 'sewer': 5000, \"girlfriend's\": 5001, 'veal': 5002, 'satifying': 5003, 'join': 5004, 'email': 5005, 'colder': 5006, 'describing': 5007, 'tepid': 5008, 'chains': 5009, 'crowds': 5010, 'juries': 5011, 'lawyers': 5012, 'arrives': 5013, 'paying': 5014, '85': 5015, 'wienerschnitzel': 5016, 'maine': 5017, 'roll': 5018, 'brother': 5019, 'law': 5020, 'hereas': 5021, 'event': 5022, 'held': 5023, 'pissd': 5024, 'surprise': 5025, 'golden': 5026, 'hopes': 5027, 'bruschetta': 5028, 'devine': 5029, 'employee': 5030, 'lastly': 5031, 'mozzarella': 5032, 'negligent': 5033, 'unwelcome': 5034, 'packed': 5035, 'seasonal': 5036, 'fruit': 5037, 'peach': 5038, 'officially': 5039, 'containers': 5040, 'opposed': 5041, 'cramming': 5042, 'takeout': 5043, 'boxes': 5044, 'crêpe': 5045, 'delicate': 5046, 'kabuki': 5047, 'maria': 5048, 'article': 5049, 'spices': 5050, 'fucking': 5051, \"caballero's\": 5052, 'oysters': 5053, 'qualified': 5054, 'foods': 5055, 'tolerance': 5056, 'polite': 5057, 'wash': 5058, 'biscuit': 5059, 'fella': 5060, 'huevos': 5061, 'rancheros': 5062, 'wines': 5063, 'pricey': 5064, 'temp': 5065, 'prepare': 5066, 'bare': 5067, 'gloves': 5068, 'deep': 5069, 'oil': 5070, 'pleasure': 5071, 'plethora': 5072, 'sandwiches': 5073, 'seal': 5074, 'approval': 5075, 'college': 5076, 'cooking': 5077, 'besides': 5078, \"costco's\": 5079, 'highlighted': 5080, 'grocery': 5081, 'dude': 5082, 'doughy': 5083, 'inch': 5084, 'wire': 5085, 'ourselves': 5086, 'albondigas': 5087, 'tomato': 5088, 'meatballs': 5089, 'occasions': 5090, 'medium': 5091, 'bloodiest': 5092, 'anymore': 5093, 'chai': 5094, 'latte': 5095, 'allergy': 5096, 'warnings': 5097, 'clue': 5098, 'contain': 5099, 'peanuts': 5100, 'mediterranean': 5101, 'beers': 5102, 'highlight': 5103, 'concern': 5104, 'mellow': 5105, 'mushroom': 5106, 'strawberry': 5107, 'unprofessional': 5108, 'loyal': 5109, 'patron': 5110, 'occasional': 5111, 'pats': 5112, 'bellagio': 5113, 'anticipated': 5114, 'sals': 5115, 'fav': 5116, 'unexperienced': 5117, 'employees': 5118, 'chickens': 5119, 'steakhouse': 5120, 'concept': 5121, 'guacamole': 5122, 'puréed': 5123, 'postinos': 5124, 'poisoning': 5125, 'batch': 5126, 'yay': 5127, 'eve': 5128, 'caring': 5129, 'teamwork': 5130, 'degree': 5131, 'ri': 5132, 'calamari': 5133, 'fondue': 5134, \"denny's\": 5135, 'downright': 5136, 'waaaaaayyyyyyyyyy': 5137, 'sangria': 5138, 'glass': 5139, 'brisket': 5140, 'trippy': 5141, 'hurry': 5142, 'reservation': 5143, 'stretch': 5144, 'cashew': 5145, 'chipolte': 5146, 'ranch': 5147, 'dipping': 5148, 'sause': 5149, 'watered': 5150, 'workers': 5151, 'douchey': 5152, 'garden': 5153, 'con': 5154, 'spotty': 5155, 'ensued': 5156, 'apologize': 5157, 'binge': 5158, 'drinking': 5159, 'carbs': 5160, 'insults': 5161, 'profound': 5162, 'deuchebaggery': 5163, 'solidify': 5164, \"don't'\": 5165, 'combo': 5166, 'ala': 5167, 'cart': 5168, 'blame': 5169, 'rave': 5170, 'del': 5171, 'hamburger': 5172, \"ya'all\": 5173, 'fireball': 5174, 'disapppointment': 5175, 'correction': 5176, 'heimer': 5177, 'brownish': 5178, 'ha': 5179, 'flop': 5180, '99': 5181, 'bigger': 5182, 'unwrapped': 5183, 'mirage': 5184, 'refried': 5185, 'dried': 5186, 'crusty': 5187, 'caterpillar': 5188, 'appetite': 5189, 'instantly': 5190, 'ninja': 5191, 'poured': 5192, 'wound': 5193, 'drawing': 5194}\n"
     ]
    }
   ],
   "source": [
    "print(tokenizer.word_index)"
   ]
  },
  {
   "cell_type": "markdown",
   "id": "361642ec-9070-41ca-8d42-5aa8cd54c410",
   "metadata": {},
   "source": [
    "##### The goal of vectorizing is to convert words to numbers"
   ]
  },
  {
   "cell_type": "code",
   "execution_count": 36,
   "id": "c3436002-9ccd-48d1-b98f-0b9fce7db488",
   "metadata": {},
   "outputs": [
    {
     "name": "stdout",
     "output_type": "stream",
     "text": [
      "[13, 15, 20, 18, 3, 13, 9, 21, 4, 11, 21, 21, 21, 24, 7, 20, 23, 4, 4, 20, 23]\n"
     ]
    }
   ],
   "source": [
    "encoded_reviews = [keras.preprocessing.text.one_hot(d, len(vocab)) for d in reviews]\n",
    "print(encoded_reviews[0])"
   ]
  },
  {
   "cell_type": "code",
   "execution_count": 37,
   "id": "6e607e81-13de-4584-9d63-c1923e7a4292",
   "metadata": {},
   "outputs": [
    {
     "name": "stdout",
     "output_type": "stream",
     "text": [
      "so there is no way for me to plug it in here in the us unless i go by a converter.\n",
      "[27, 49, 5, 58, 118, 12, 73, 7, 367, 6, 11, 66, 11, 1, 186, 642, 3, 77, 63, 4, 2241]\n"
     ]
    }
   ],
   "source": [
    "print(review_text[0])\n",
    "print(encoded_docs[0])"
   ]
  },
  {
   "cell_type": "markdown",
   "id": "4bd86bb7-22cf-4076-87f9-3795f937a8ad",
   "metadata": {},
   "source": [
    "##### The goal of padding is to make all sentences the same length and this is required by tensor flow to perform the chosen analysis. This padding was performed post. "
   ]
  },
  {
   "cell_type": "code",
   "execution_count": 38,
   "id": "ab2b8c3e-13ad-4b94-a5b8-4ec876a795b7",
   "metadata": {},
   "outputs": [
    {
     "name": "stdout",
     "output_type": "stream",
     "text": [
      "[[13 15 20 ...  0  0  0]\n",
      " [ 8  2 21 ...  0  0  0]\n",
      " [ 4 13 24 ...  0  0  0]\n",
      " ...\n",
      " [ 8 23  5 ...  0  0  0]\n",
      " [24 16  2 ...  0  0  0]\n",
      " [16 20 20 ...  0  0  0]]\n"
     ]
    }
   ],
   "source": [
    "padded_reviews = keras.preprocessing.sequence.pad_sequences(encoded_reviews, maxlen=max_review_len, padding='post')\n",
    "print(padded_reviews)"
   ]
  },
  {
   "cell_type": "code",
   "execution_count": 39,
   "id": "e8ac3208-5dc2-435a-a403-24d8e288926b",
   "metadata": {},
   "outputs": [
    {
     "name": "stdout",
     "output_type": "stream",
     "text": [
      "[13 15 20 ...  0  0  0]\n"
     ]
    }
   ],
   "source": [
    "print(padded_reviews[0])"
   ]
  },
  {
   "cell_type": "markdown",
   "id": "ea10c295-9365-4ba2-b18f-4d70fab769c8",
   "metadata": {},
   "source": [
    "##### There are two categories of sentiment. "
   ]
  },
  {
   "cell_type": "markdown",
   "id": "8d10df99-2cce-454b-9e64-0b0cd2b6dfd5",
   "metadata": {},
   "source": [
    "##### Steps used to prepare the data set are to set the working directory, import the data sets, concat the data, check for missing or null values, view the shape of the data, remove any nulls, impute capital letters with lowercase, remove any special characters or punctuation, use stemming or lemmatization, tokenize, vectorize, add padding, split the data set and save the data set. "
   ]
  },
  {
   "cell_type": "code",
   "execution_count": 40,
   "id": "a78e404b-e40c-4915-a187-ad1c0366a32e",
   "metadata": {},
   "outputs": [],
   "source": [
    "#Split the dataset\n",
    "x_train, x_test, y_train, y_test = train_test_split(padded_reviews, df.sentiment, test_size=0.2, random_state=7)"
   ]
  },
  {
   "cell_type": "code",
   "execution_count": 41,
   "id": "2156a6d9-d4d9-4839-a36c-9db22a8eba01",
   "metadata": {},
   "outputs": [],
   "source": [
    "#Save the dataset"
   ]
  },
  {
   "cell_type": "code",
   "execution_count": 42,
   "id": "7b8dab91-9965-44fd-9716-8fc8b5ea9b2e",
   "metadata": {},
   "outputs": [],
   "source": [
    "df_final = pd.DataFrame(padded_reviews)\n",
    "df_final['sentiment'] = df.sentiment\n",
    "df_final.to_csv('sentiment_prepared.csv')"
   ]
  },
  {
   "cell_type": "markdown",
   "id": "a59ece54-08f7-4ec1-9298-0fa6200f9ca2",
   "metadata": {},
   "source": [
    "##### A copy of the prepared data set are in included in the submission. "
   ]
  },
  {
   "cell_type": "markdown",
   "id": "f0eac2dd-c893-455d-89b3-9478016940b5",
   "metadata": {},
   "source": [
    "### Part III: Network Architecture"
   ]
  },
  {
   "cell_type": "markdown",
   "id": "9ef9912b-cdd4-4636-bc1d-54f610950a64",
   "metadata": {},
   "source": [
    "##### See the below model summary"
   ]
  },
  {
   "cell_type": "code",
   "execution_count": 43,
   "id": "ba2cc99a-217d-47b6-b1ec-1a7f14075b58",
   "metadata": {},
   "outputs": [],
   "source": [
    "#Build, compile, summary(), fit the model"
   ]
  },
  {
   "cell_type": "code",
   "execution_count": 44,
   "id": "c38cc60c-ec1f-4bc1-8089-b29db8555db9",
   "metadata": {},
   "outputs": [],
   "source": [
    "embedding_dim = 6"
   ]
  },
  {
   "cell_type": "code",
   "execution_count": 45,
   "id": "98ffddfb-094a-4856-8696-f346241b5845",
   "metadata": {},
   "outputs": [
    {
     "name": "stdout",
     "output_type": "stream",
     "text": [
      "WARNING:tensorflow:From C:\\Users\\ntrei\\anaconda3\\Lib\\site-packages\\keras\\src\\backend.py:873: The name tf.get_default_graph is deprecated. Please use tf.compat.v1.get_default_graph instead.\n",
      "\n",
      "WARNING:tensorflow:From C:\\Users\\ntrei\\anaconda3\\Lib\\site-packages\\keras\\src\\optimizers\\__init__.py:309: The name tf.train.Optimizer is deprecated. Please use tf.compat.v1.train.Optimizer instead.\n",
      "\n",
      "Model: \"sequential\"\n",
      "_________________________________________________________________\n",
      " Layer (type)                Output Shape              Param #   \n",
      "=================================================================\n",
      " embedding (Embedding)       (None, 1376, 70)          1820      \n",
      "                                                                 \n",
      " global_average_pooling1d (  (None, 70)                0         \n",
      " GlobalAveragePooling1D)                                         \n",
      "                                                                 \n",
      " dense (Dense)               (None, 100)               7100      \n",
      "                                                                 \n",
      " dense_1 (Dense)             (None, 50)                5050      \n",
      "                                                                 \n",
      " dense_2 (Dense)             (None, 2)                 102       \n",
      "                                                                 \n",
      "=================================================================\n",
      "Total params: 14072 (54.97 KB)\n",
      "Trainable params: 14072 (54.97 KB)\n",
      "Non-trainable params: 0 (0.00 Byte)\n",
      "_________________________________________________________________\n",
      "Epoch 1/20\n",
      "WARNING:tensorflow:From C:\\Users\\ntrei\\anaconda3\\Lib\\site-packages\\keras\\src\\utils\\tf_utils.py:492: The name tf.ragged.RaggedTensorValue is deprecated. Please use tf.compat.v1.ragged.RaggedTensorValue instead.\n",
      "\n",
      "WARNING:tensorflow:From C:\\Users\\ntrei\\anaconda3\\Lib\\site-packages\\keras\\src\\engine\\base_layer_utils.py:384: The name tf.executing_eagerly_outside_functions is deprecated. Please use tf.compat.v1.executing_eagerly_outside_functions instead.\n",
      "\n",
      "49/49 [==============================] - 5s 48ms/step - loss: 0.6942 - accuracy: 0.4961 - val_loss: 0.6933 - val_accuracy: 0.4970\n",
      "Epoch 2/20\n",
      "49/49 [==============================] - 1s 27ms/step - loss: 0.6936 - accuracy: 0.4870 - val_loss: 0.6931 - val_accuracy: 0.5045\n",
      "Epoch 3/20\n",
      "49/49 [==============================] - 1s 23ms/step - loss: 0.6938 - accuracy: 0.4798 - val_loss: 0.6931 - val_accuracy: 0.4970\n",
      "Epoch 4/20\n",
      "49/49 [==============================] - 1s 30ms/step - loss: 0.6934 - accuracy: 0.4909 - val_loss: 0.6931 - val_accuracy: 0.5045\n",
      "Epoch 5/20\n",
      "49/49 [==============================] - 1s 26ms/step - loss: 0.6934 - accuracy: 0.4987 - val_loss: 0.6930 - val_accuracy: 0.5045\n",
      "Epoch 6/20\n",
      "49/49 [==============================] - 1s 25ms/step - loss: 0.6934 - accuracy: 0.4922 - val_loss: 0.6931 - val_accuracy: 0.4970\n",
      "Epoch 7/20\n",
      "49/49 [==============================] - 1s 25ms/step - loss: 0.6935 - accuracy: 0.4954 - val_loss: 0.6931 - val_accuracy: 0.5045\n"
     ]
    }
   ],
   "source": [
    "activation = 'softmax'\n",
    "loss = 'sparse_categorical_crossentropy'\n",
    "optimizer = 'adam'\n",
    "num_epochs = 20\n",
    "\n",
    "early_stopping_monitor = EarlyStopping(patience=2)\n",
    "\n",
    "model = tf.keras.Sequential([\n",
    "    tf.keras.layers.Embedding(len(vocab), 70, input_length=max_review_len),\n",
    "    tf.keras.layers.GlobalAveragePooling1D(),\n",
    "    tf.keras.layers.Dense(100, activation='relu'),\n",
    "    tf.keras.layers.Dense(50, activation='relu'),\n",
    "    tf.keras.layers.Dense(2, activation=activation)\n",
    "])\n",
    "\n",
    "model.compile(loss=loss,optimizer=optimizer,metrics=['accuracy'])\n",
    "model.summary()\n",
    "history = model.fit(x_train, y_train, batch_size=32, epochs=num_epochs,\n",
    "                    validation_split = 0.3, callbacks=[early_stopping_monitor], verbose=True)"
   ]
  },
  {
   "cell_type": "markdown",
   "id": "da644298-4ad4-4dc4-893c-a9a7c449e378",
   "metadata": {},
   "source": [
    "##### We've employed five layers in our sequential model. The first layer is the embedding layer with 1820 parameters with an embedding length of 70 which is the mean length review. The second layer is the global average pooling which changes the model to 2D. The third layer has a density of 100 (or 100 nodes) with relu activation. The fourth layer has a density of 50 (or 50 nodes) with relu activation. The fifth layer has a density of 2 (or 2 nodes) with relu activation. Relu is rectified linear activation and is used for hidden layers and can be used if there are 2 or more sentiments. The activation function employed was softmax, the optimizer used was adam, the loss function was sparse categorical cross-entropy, the epoch was set at 20 and an early stop monitor was used to prevent overfitting. These functions work well with our dataset being binary classification 0/1. The model stopped running at 7 epochs which indicates 7 epochs may be optimal for the entered parameters. The val accuracy is .5045 which means the model predicated the correct sentiment 50% of the time. The evaluation metrics being used are accuracy and loss. "
   ]
  },
  {
   "cell_type": "markdown",
   "id": "3c82db89-4214-4d32-b6b0-7840bba54d79",
   "metadata": {},
   "source": [
    "### Part IV: Model Evaluation"
   ]
  },
  {
   "cell_type": "markdown",
   "id": "f38a76f5-d00f-49ae-99d2-e8790d4eff0f",
   "metadata": {},
   "source": [
    "##### The stopping criteria were utilized to prevent overfitting. The stopping criteria works by stopping once it reaches the optimal number of epochs. There does not appear to be overfitting as the accuracy score is not optimal. The model needs to be refined to produce higher accuracy predictions. "
   ]
  },
  {
   "cell_type": "code",
   "execution_count": 46,
   "id": "4952805b-fe42-447a-a181-587b4bec1ca7",
   "metadata": {},
   "outputs": [],
   "source": [
    "#Generate the history graphs showing model accuracy and loss"
   ]
  },
  {
   "cell_type": "code",
   "execution_count": 47,
   "id": "3d776a50-88a2-4a50-b703-4ff2135d70f0",
   "metadata": {},
   "outputs": [
    {
     "name": "stdout",
     "output_type": "stream",
     "text": [
      "Test loss 0.6927335262298584\n",
      "Test accuracy 0.5218181610107422\n"
     ]
    }
   ],
   "source": [
    "res = model.evaluate(x_test, y_test, verbose = 0)\n",
    "\n",
    "print('Test loss',res[0])\n",
    "print('Test accuracy',res[1])"
   ]
  },
  {
   "cell_type": "markdown",
   "id": "82139130-34f4-43a4-b7ff-5b870ca66b43",
   "metadata": {},
   "source": [
    "##### The test loss was .69 and test accuracy was .52"
   ]
  },
  {
   "cell_type": "markdown",
   "id": "61849236-2a82-4601-9daa-5089a5b59695",
   "metadata": {},
   "source": [
    "##### Accuracy plot"
   ]
  },
  {
   "cell_type": "code",
   "execution_count": 48,
   "id": "1fd68cdb-361f-4add-8221-86ad1717a269",
   "metadata": {},
   "outputs": [
    {
     "data": {
      "image/png": "[encoded data removed]",
      "text/plain": [
       "<Figure size 640x480 with 1 Axes>"
      ]
     },
     "metadata": {},
     "output_type": "display_data"
    },
    {
     "data": {
      "text/plain": [
       "<Figure size 640x480 with 0 Axes>"
      ]
     },
     "metadata": {},
     "output_type": "display_data"
    }
   ],
   "source": [
    "plt.plot(history.history['accuracy'], label = 'acc')\n",
    "plt.plot(history.history['val_accuracy'], label = 'val_acc')\n",
    "plt.legend()\n",
    "plt.show()\n",
    "plt.savefig(\"accuracy plot.jpg\")"
   ]
  },
  {
   "cell_type": "markdown",
   "id": "1114bd8c-0c15-474f-99be-0032f826cc4c",
   "metadata": {},
   "source": [
    "##### Loss plot"
   ]
  },
  {
   "cell_type": "code",
   "execution_count": 55,
   "id": "6b5b935b-8729-4510-a9e4-3e5bbf123ff1",
   "metadata": {},
   "outputs": [
    {
     "data": {
      "image/png": "[encoded data removed]",
      "text/plain": [
       "<Figure size 640x480 with 1 Axes>"
      ]
     },
     "metadata": {},
     "output_type": "display_data"
    },
    {
     "data": {
      "text/plain": [
       "<Figure size 640x480 with 0 Axes>"
      ]
     },
     "metadata": {},
     "output_type": "display_data"
    }
   ],
   "source": [
    "plt.plot(history.history['loss'])\n",
    "plt.xlabel('Epochs')\n",
    "plt.ylabel('MAE(loss)')\n",
    "plt.title('Loss vs Epochs')\n",
    "plt.show()\n",
    "plt.savefig(\"Loss vs Epochs.jpg\")"
   ]
  },
  {
   "cell_type": "markdown",
   "id": "796506ed-25f7-407f-93af-07f322e4cf33",
   "metadata": {},
   "source": [
    "##### Loss plot"
   ]
  },
  {
   "cell_type": "code",
   "execution_count": 50,
   "id": "5ff3fd12-03a3-4361-a186-b396c9ca51e2",
   "metadata": {},
   "outputs": [
    {
     "data": {
      "image/png": "[encoded data removed]",
      "text/plain": [
       "<Figure size 640x480 with 1 Axes>"
      ]
     },
     "metadata": {},
     "output_type": "display_data"
    },
    {
     "data": {
      "text/plain": [
       "<Figure size 640x480 with 0 Axes>"
      ]
     },
     "metadata": {},
     "output_type": "display_data"
    }
   ],
   "source": [
    "plt.plot(history.history['loss'], label='loss')\n",
    "plt.plot(history.history['val_loss'], label='val_loss')\n",
    "plt.legend()\n",
    "plt.show()\n",
    "plt.savefig(\"Loss plot.jpg\")"
   ]
  },
  {
   "cell_type": "code",
   "execution_count": 51,
   "id": "947d7dfc-ee75-42c0-98e2-3f8d265a99cd",
   "metadata": {},
   "outputs": [],
   "source": [
    "#Evaluate model"
   ]
  },
  {
   "cell_type": "markdown",
   "id": "4f0e85da-d90b-4e8f-94c0-1088e1e23ed4",
   "metadata": {},
   "source": [
    "##### Accuracy and loss plot"
   ]
  },
  {
   "cell_type": "code",
   "execution_count": 56,
   "id": "3d1b16cd-56d2-4b4f-b68d-ed8c5f1649e5",
   "metadata": {},
   "outputs": [
    {
     "data": {
      "image/png": "[encoded data removed]",
      "text/plain": [
       "<Figure size 640x480 with 1 Axes>"
      ]
     },
     "metadata": {},
     "output_type": "display_data"
    },
    {
     "data": {
      "text/plain": [
       "<Figure size 640x480 with 0 Axes>"
      ]
     },
     "metadata": {},
     "output_type": "display_data"
    }
   ],
   "source": [
    "plt.plot(history.history['val_accuracy'], label = 'val_acc')\n",
    "plt.plot(history.history['val_loss'], label='val_loss')\n",
    "plt.xlabel('Epochs')\n",
    "plt.ylabel('Metrics')\n",
    "plt.title('Test Accuracy and Loss')\n",
    "plt.figure()\n",
    "plt.savefig(\"Test accuracy and loss.jpg\")"
   ]
  },
  {
   "cell_type": "markdown",
   "id": "b198228f-f241-47cb-a61b-9bf43683c7c7",
   "metadata": {},
   "source": [
    "##### The predictive accuracy is not optimal and the model needs to be refined to create a more accurate model."
   ]
  },
  {
   "cell_type": "markdown",
   "id": "ce3909b6-d7df-4efd-a738-95edc028bcf9",
   "metadata": {},
   "source": [
    "### Part V: Summary and Recommendations"
   ]
  },
  {
   "cell_type": "markdown",
   "id": "5eb0fc05-3797-41c6-9b4f-7d68dee6dccf",
   "metadata": {},
   "source": [
    "##### Here is the code used to save the model"
   ]
  },
  {
   "cell_type": "code",
   "execution_count": 57,
   "id": "fa2914ed-d630-40fe-85b4-afbd4674e523",
   "metadata": {},
   "outputs": [
    {
     "name": "stdout",
     "output_type": "stream",
     "text": [
      "INFO:tensorflow:Assets written to: C:\\Users\\ntrei\\assets\n"
     ]
    },
    {
     "name": "stderr",
     "output_type": "stream",
     "text": [
      "INFO:tensorflow:Assets written to: C:\\Users\\ntrei\\assets\n"
     ]
    }
   ],
   "source": [
    "#Model.save, make recommendations, include sources\n",
    "model.save(\"C:\\\\Users\\\\ntrei\")"
   ]
  },
  {
   "cell_type": "markdown",
   "id": "e648b64a-5fd5-4c99-82ec-cd21bfe1d2d0",
   "metadata": {},
   "source": [
    "##### The neural network needs to be tweaked to find a more accurate model. Things that can be tweaked in the model to do this are the number of epochs, the number of nodes, the embedding layer, and the input length. This would be my recommended course of action to continue fitting the model until it produces more accurate predictions. "
   ]
  },
  {
   "cell_type": "markdown",
   "id": "026aef7d-3310-4254-8919-9e4b2fe94679",
   "metadata": {},
   "source": [
    "### Part VI: Reporting"
   ]
  },
  {
   "cell_type": "markdown",
   "id": "dda3da9d-bb2f-4d8e-8abd-c9647fd40139",
   "metadata": {},
   "source": [
    "##### Appendix I - Code Reference\n",
    "https://likegeeks.com/python-remove-punctuation/\n",
    "\n",
    "https://campus.datacamp.com/courses/sentiment-analysis-in-python/sentiment-analysis-nuts-and-bolts?ex=1\n",
    "\n",
    "https://campus.datacamp.com/courses/feature-engineering-for-nlp-in-python/text-preprocessing-pos-tagging-and-ner?ex=5\n",
    "\n",
    "https://github.com/drharv/D213_Advanced_Data_Analytics/blob/main/D213%20Task%20II%20-%20Sentiment%20Analysis.pdf\n",
    "\n",
    "https://github.com/TJRiker11/Advanced-Data-Analytics-D213/blob/main/Neural%20Networks.ipynb\n",
    "\n",
    "https://westerngovernorsuniversity-my.sharepoint.com/personal/william_sewell_wgu_edu/_layouts/15/onedrive.aspx?\n",
    "id=%2Fpersonal%2Fwilliam%5Fsewell%5Fwgu%5Fedu%2FDocuments%2FDocuments%2FD213%2FWebinars%2FStemming%5Fand%5FLemmatization%2DPython%2Ehtml&parent=%2Fpersonal%2Fwilliam%5Fsewell%5Fwgu%5Fedu%2FDocuments%2FDocuments%2FD213%2FWebinars&ga=1\n",
    "\n",
    "https://westerngovernorsuniversity-my.sharepoint.com/personal/william_sewell_wgu_edu/_layouts/15/onedrive.aspx?id=%2Fpersonal%2Fwilliam%5Fsewell%5Fwgu%5Fedu%2FDocuments%2FDocuments%2FD213%2FWebinars%2FSentimentAnalysis%5FPresentation%5FNo%5F3%5FFull%5FModel%20%282%29%2Ehtml&parent=%2Fpersonal%2Fwilliam%5Fsewell%5Fwgu%5Fedu%2FDocuments%2FDocuments%2FD213%2FWebinars&ga=1\n",
    "\n",
    "file:///C:/Users/ntrei/Downloads/Sentiment_Analysis_Presentation_StopWords_ConfusionMatrixScores%20(1).html\n",
    "\n",
    "file:///C:/Users/ntrei/Downloads/Sentiment_Analysis_Tensorflow_2.html\n"
   ]
  },
  {
   "cell_type": "code",
   "execution_count": null,
   "id": "bac88fc9-966a-4dba-aa5c-32fa57713d83",
   "metadata": {},
   "outputs": [],
   "source": []
  }
 ],
 "metadata": {
  "kernelspec": {
   "display_name": "Python 3 (ipykernel)",
   "language": "python",
   "name": "python3"
  },
  "language_info": {
   "codemirror_mode": {
    "name": "ipython",
    "version": 3
   },
   "file_extension": ".py",
   "mimetype": "text/x-python",
   "name": "python",
   "nbconvert_exporter": "python",
   "pygments_lexer": "ipython3",
   "version": "3.11.8"
  }
 },
 "nbformat": 4,
 "nbformat_minor": 5
}
